{
 "cells": [
  {
   "cell_type": "markdown",
   "metadata": {
    "id": "fQJ5CYV9Te0X"
   },
   "source": [
    "# **APRENDIZAGEM SUPERVISIONADA: CLASSIFICAÇÃO**"
   ]
  },
  {
   "cell_type": "markdown",
   "metadata": {
    "id": "kXFCCsVHTtTP"
   },
   "source": [
    "Este projeto tem por objetivo desenvolver um algoritmo de Machine Learning para prever a tendência de uma pessoa desenvolver algum tipo de doença cardíaca com base em alguns fatores clínicos e laboratoriais."
   ]
  },
  {
   "cell_type": "markdown",
   "metadata": {
    "id": "5ZQ2nYhQUc3G"
   },
   "source": [
    "Os dados foram extraídos do site do Kaggle:\n",
    "\n",
    "https://www.kaggle.com/fedesoriano/heart-failure-prediction/version/1"
   ]
  },
  {
   "cell_type": "markdown",
   "metadata": {
    "id": "gczjMn0YIb6s"
   },
   "source": [
    "# **PRÉ-PROCESSAMENTO**"
   ]
  },
  {
   "cell_type": "code",
   "execution_count": null,
   "metadata": {
    "executionInfo": {
     "elapsed": 3,
     "status": "ok",
     "timestamp": 1689263486766,
     "user": {
      "displayName": "Luciano Galdino",
      "userId": "10237697037323960148"
     },
     "user_tz": 180
    },
    "id": "nWvIcticlCs2"
   },
   "outputs": [],
   "source": [
    "import numpy as np\n",
    "import pandas as pd"
   ]
  },
  {
   "cell_type": "code",
   "execution_count": null,
   "metadata": {
    "executionInfo": {
     "elapsed": 78,
     "status": "ok",
     "timestamp": 1689263487785,
     "user": {
      "displayName": "Luciano Galdino",
      "userId": "10237697037323960148"
     },
     "user_tz": 180
    },
    "id": "LRIrwcC8kUhT"
   },
   "outputs": [],
   "source": [
    "df = pd.read_csv('/content/heart_tratado.csv',\n",
    "                    sep=';', encoding='utf-8')"
   ]
  },
  {
   "cell_type": "code",
   "execution_count": null,
   "metadata": {
    "colab": {
     "base_uri": "https://localhost:8080/",
     "height": 0
    },
    "executionInfo": {
     "elapsed": 77,
     "status": "ok",
     "timestamp": 1689263487786,
     "user": {
      "displayName": "Luciano Galdino",
      "userId": "10237697037323960148"
     },
     "user_tz": 180
    },
    "id": "QtugliripIyp",
    "outputId": "bc5ce496-7bce-45a9-c16d-4b917236b3ec"
   },
   "outputs": [],
   "source": [
    "df.head()"
   ]
  },
  {
   "cell_type": "code",
   "execution_count": null,
   "metadata": {
    "colab": {
     "base_uri": "https://localhost:8080/"
    },
    "executionInfo": {
     "elapsed": 74,
     "status": "ok",
     "timestamp": 1689263487787,
     "user": {
      "displayName": "Luciano Galdino",
      "userId": "10237697037323960148"
     },
     "user_tz": 180
    },
    "id": "NSH5-od1gRAU",
    "outputId": "bb1e364d-266c-45dd-f173-02c0f3ea8e2b"
   },
   "outputs": [],
   "source": [
    "df.shape"
   ]
  },
  {
   "cell_type": "code",
   "execution_count": null,
   "metadata": {
    "colab": {
     "base_uri": "https://localhost:8080/"
    },
    "executionInfo": {
     "elapsed": 72,
     "status": "ok",
     "timestamp": 1689263487788,
     "user": {
      "displayName": "Luciano Galdino",
      "userId": "10237697037323960148"
     },
     "user_tz": 180
    },
    "id": "4B4dlBwKvN_A",
    "outputId": "ccd91da7-ae14-4e0c-aaae-f706e0988508"
   },
   "outputs": [],
   "source": [
    "df.dtypes"
   ]
  },
  {
   "cell_type": "markdown",
   "metadata": {
    "id": "a-DfpMtio-sq"
   },
   "source": [
    "## **Transformando as variáveis categóricas nominais em variáveis categóricas ordinais**"
   ]
  },
  {
   "cell_type": "code",
   "execution_count": null,
   "metadata": {
    "executionInfo": {
     "elapsed": 71,
     "status": "ok",
     "timestamp": 1689263487789,
     "user": {
      "displayName": "Luciano Galdino",
      "userId": "10237697037323960148"
     },
     "user_tz": 180
    },
    "id": "JntPfMmptEhg"
   },
   "outputs": [],
   "source": [
    "df2 = pd.DataFrame.copy(df)"
   ]
  },
  {
   "cell_type": "code",
   "execution_count": null,
   "metadata": {
    "executionInfo": {
     "elapsed": 71,
     "status": "ok",
     "timestamp": 1689263487790,
     "user": {
      "displayName": "Luciano Galdino",
      "userId": "10237697037323960148"
     },
     "user_tz": 180
    },
    "id": "KUxPnNEhrsjL"
   },
   "outputs": [],
   "source": [
    "df2['Sex'].replace({'M':0, 'F': 1}, inplace=True)\n",
    "df2['ChestPainType'].replace({'TA':0, 'ATA': 1, 'NAP':2, 'ASY': 3}, inplace=True)\n",
    "df2['RestingECG'].replace({'Normal':0, 'ST': 1, 'LVH':2}, inplace=True)\n",
    "df2['ExerciseAngina'].replace({'N':0, 'Y': 1}, inplace=True)\n",
    "df2['ST_Slope'].replace({'Up':0, 'Flat': 1, 'Down':2}, inplace=True)"
   ]
  },
  {
   "cell_type": "code",
   "execution_count": null,
   "metadata": {
    "colab": {
     "base_uri": "https://localhost:8080/",
     "height": 0
    },
    "executionInfo": {
     "elapsed": 71,
     "status": "ok",
     "timestamp": 1689263487791,
     "user": {
      "displayName": "Luciano Galdino",
      "userId": "10237697037323960148"
     },
     "user_tz": 180
    },
    "id": "1aTDlfUZpfJi",
    "outputId": "2a0ec0ae-3a61-404d-d938-fa98c7ac0200"
   },
   "outputs": [],
   "source": [
    "df2.head()"
   ]
  },
  {
   "cell_type": "code",
   "execution_count": null,
   "metadata": {
    "colab": {
     "base_uri": "https://localhost:8080/"
    },
    "executionInfo": {
     "elapsed": 69,
     "status": "ok",
     "timestamp": 1689263487792,
     "user": {
      "displayName": "Luciano Galdino",
      "userId": "10237697037323960148"
     },
     "user_tz": 180
    },
    "id": "6kC-deH0giws",
    "outputId": "f633efe8-5844-4a7b-9609-15b1af6cca9b"
   },
   "outputs": [],
   "source": [
    "df2.dtypes"
   ]
  },
  {
   "cell_type": "code",
   "execution_count": null,
   "metadata": {
    "colab": {
     "base_uri": "https://localhost:8080/"
    },
    "executionInfo": {
     "elapsed": 67,
     "status": "ok",
     "timestamp": 1689263487793,
     "user": {
      "displayName": "Luciano Galdino",
      "userId": "10237697037323960148"
     },
     "user_tz": 180
    },
    "id": "e3oELnDctqsq",
    "outputId": "ec89dc09-5cbe-4de4-b7f6-3dea18dff475"
   },
   "outputs": [],
   "source": [
    "df2.shape"
   ]
  },
  {
   "cell_type": "markdown",
   "metadata": {
    "id": "khuvnjo8ta5k"
   },
   "source": [
    "## **LEGENDA**"
   ]
  },
  {
   "cell_type": "markdown",
   "metadata": {
    "id": "9Kz8O68wpsY3"
   },
   "source": [
    "Age = idade (anos)\n",
    "\n",
    "Sex = sexo (0=M; 1=F)\n",
    "\n",
    "Chest Pain Type = tipo de dor no peito (0=TA:angina típica; 1=ATA:angina atípica; 2=NAP:dor não anginosa; 3=ASY:assintomático)\n",
    "\n",
    "Resting BP = pressão sanguínea em repouso (mmHg)\n",
    "\n",
    "Cholesterol = colesterol sérico (mg/dl)\n",
    "\n",
    "Fasting BS = açúcar no sangue em jejum (mg/dl)\n",
    "          0: Fasting BS < 120 mg/dl (não diabético)\n",
    "          1: Fasting BS >= 120 mg/dl, (diabético)\n",
    "\n",
    "Resting ECG = eletrocardiograma em repouso (0=Normal; 1=ST:Anormalidade da onda ST-T; 2=LVH: Hipertrofia ventricular esquerda)\n",
    "\n",
    "Max HR = frequência cardíaca máxima\n",
    "\n",
    "Exercise Angina = Angina induzida por exercício (0=Não; 1=Sim)\n",
    "\n",
    "Old Peak = Depressão de ST induzida por exercício em relação ao repouso\n",
    "\n",
    "ST_Slope = Inclinação do segmento ST (0=UP; 1=Flat; 2=Down)\n",
    "\n",
    "Heart Disease = Doença cardíaca (0=Não possui doença cardíaca; 1=Possui doença cardíaca)\n",
    "\n"
   ]
  },
  {
   "cell_type": "markdown",
   "metadata": {
    "id": "_NBxZCLzC8Bl"
   },
   "source": [
    "## **ATRIBUTOS PREVISORES E ALVO**"
   ]
  },
  {
   "cell_type": "code",
   "execution_count": null,
   "metadata": {
    "colab": {
     "base_uri": "https://localhost:8080/",
     "height": 0
    },
    "executionInfo": {
     "elapsed": 66,
     "status": "ok",
     "timestamp": 1689263487794,
     "user": {
      "displayName": "Luciano Galdino",
      "userId": "10237697037323960148"
     },
     "user_tz": 180
    },
    "id": "eLzWunR78ozP",
    "outputId": "d7dd5d94-abe4-439a-a7ba-c5bebd28b143"
   },
   "outputs": [],
   "source": [
    "df2.head()"
   ]
  },
  {
   "cell_type": "code",
   "execution_count": null,
   "metadata": {
    "executionInfo": {
     "elapsed": 65,
     "status": "ok",
     "timestamp": 1689263487795,
     "user": {
      "displayName": "Luciano Galdino",
      "userId": "10237697037323960148"
     },
     "user_tz": 180
    },
    "id": "alp9Gsx8z6f3"
   },
   "outputs": [],
   "source": [
    "previsores = df2.iloc[:, 0:11].values\n"
   ]
  },
  {
   "cell_type": "code",
   "execution_count": null,
   "metadata": {
    "colab": {
     "base_uri": "https://localhost:8080/"
    },
    "executionInfo": {
     "elapsed": 66,
     "status": "ok",
     "timestamp": 1689263487797,
     "user": {
      "displayName": "Luciano Galdino",
      "userId": "10237697037323960148"
     },
     "user_tz": 180
    },
    "id": "ZJjs6cWq-9Bn",
    "outputId": "cb79db7d-fbe8-4b29-efe8-f50820576a62"
   },
   "outputs": [],
   "source": [
    "previsores"
   ]
  },
  {
   "cell_type": "code",
   "execution_count": null,
   "metadata": {
    "colab": {
     "base_uri": "https://localhost:8080/"
    },
    "executionInfo": {
     "elapsed": 64,
     "status": "ok",
     "timestamp": 1689263487797,
     "user": {
      "displayName": "Luciano Galdino",
      "userId": "10237697037323960148"
     },
     "user_tz": 180
    },
    "id": "KrtsyKXXAxTL",
    "outputId": "409d0a66-7d23-4462-f88c-f351ae71557b"
   },
   "outputs": [],
   "source": [
    "previsores.shape"
   ]
  },
  {
   "cell_type": "code",
   "execution_count": null,
   "metadata": {
    "executionInfo": {
     "elapsed": 64,
     "status": "ok",
     "timestamp": 1689263487799,
     "user": {
      "displayName": "Luciano Galdino",
      "userId": "10237697037323960148"
     },
     "user_tz": 180
    },
    "id": "wdXWRjHMBAFo"
   },
   "outputs": [],
   "source": [
    "alvo = df2.iloc[:, 11].values"
   ]
  },
  {
   "cell_type": "code",
   "execution_count": null,
   "metadata": {
    "colab": {
     "base_uri": "https://localhost:8080/"
    },
    "executionInfo": {
     "elapsed": 64,
     "status": "ok",
     "timestamp": 1689263487800,
     "user": {
      "displayName": "Luciano Galdino",
      "userId": "10237697037323960148"
     },
     "user_tz": 180
    },
    "id": "wK163BWgBJg2",
    "outputId": "273ed284-7c25-4967-c3f4-f8db261dc236"
   },
   "outputs": [],
   "source": [
    "alvo"
   ]
  },
  {
   "cell_type": "code",
   "execution_count": null,
   "metadata": {
    "colab": {
     "base_uri": "https://localhost:8080/"
    },
    "executionInfo": {
     "elapsed": 61,
     "status": "ok",
     "timestamp": 1689263487800,
     "user": {
      "displayName": "Luciano Galdino",
      "userId": "10237697037323960148"
     },
     "user_tz": 180
    },
    "id": "RoSOdYF3BaOf",
    "outputId": "da128653-d73b-44f7-94c7-1b9431450a7e"
   },
   "outputs": [],
   "source": [
    "alvo.shape"
   ]
  },
  {
   "cell_type": "markdown",
   "metadata": {
    "id": "Xw6d4rM0C9ZD"
   },
   "source": [
    "## **Análise das escalas dos atributos (Escalonamento)**"
   ]
  },
  {
   "cell_type": "code",
   "execution_count": null,
   "metadata": {
    "colab": {
     "base_uri": "https://localhost:8080/",
     "height": 0
    },
    "executionInfo": {
     "elapsed": 60,
     "status": "ok",
     "timestamp": 1689263487801,
     "user": {
      "displayName": "Luciano Galdino",
      "userId": "10237697037323960148"
     },
     "user_tz": 180
    },
    "id": "JzYfrEIxDHIL",
    "outputId": "7a93609b-df0c-4ce2-851f-e3f866dedaad"
   },
   "outputs": [],
   "source": [
    "df2.describe()"
   ]
  },
  {
   "cell_type": "markdown",
   "metadata": {
    "id": "XcSAxyqTD4dw"
   },
   "source": [
    "Padronização (utiliza a média e o desvio padrão como referência).\n",
    "\n",
    "Normalização (utiliza os valores máximo e mínimo como referência)."
   ]
  },
  {
   "cell_type": "code",
   "execution_count": null,
   "metadata": {
    "executionInfo": {
     "elapsed": 942,
     "status": "ok",
     "timestamp": 1689263488692,
     "user": {
      "displayName": "Luciano Galdino",
      "userId": "10237697037323960148"
     },
     "user_tz": 180
    },
    "id": "eMoVJG5kEJSG"
   },
   "outputs": [],
   "source": [
    "from sklearn.preprocessing import StandardScaler"
   ]
  },
  {
   "cell_type": "code",
   "execution_count": null,
   "metadata": {
    "executionInfo": {
     "elapsed": 21,
     "status": "ok",
     "timestamp": 1689263488693,
     "user": {
      "displayName": "Luciano Galdino",
      "userId": "10237697037323960148"
     },
     "user_tz": 180
    },
    "id": "0DpkgD9REQ7m"
   },
   "outputs": [],
   "source": [
    "previsores_esc = StandardScaler().fit_transform(previsores)"
   ]
  },
  {
   "cell_type": "code",
   "execution_count": null,
   "metadata": {
    "colab": {
     "base_uri": "https://localhost:8080/"
    },
    "executionInfo": {
     "elapsed": 22,
     "status": "ok",
     "timestamp": 1689263488695,
     "user": {
      "displayName": "Luciano Galdino",
      "userId": "10237697037323960148"
     },
     "user_tz": 180
    },
    "id": "qmoQSiWMEr0k",
    "outputId": "5310f0c1-1aa5-4ae6-fb5f-0a2b0575558f"
   },
   "outputs": [],
   "source": [
    "previsores_esc"
   ]
  },
  {
   "cell_type": "code",
   "execution_count": null,
   "metadata": {
    "colab": {
     "base_uri": "https://localhost:8080/",
     "height": 0
    },
    "executionInfo": {
     "elapsed": 22,
     "status": "ok",
     "timestamp": 1689263488696,
     "user": {
      "displayName": "Luciano Galdino",
      "userId": "10237697037323960148"
     },
     "user_tz": 180
    },
    "id": "aFabOc6kFLMu",
    "outputId": "3b7c40d2-cd59-4936-be6e-befee9e1ce7a"
   },
   "outputs": [],
   "source": [
    "previsoresdf = pd.DataFrame(previsores_esc)\n",
    "previsoresdf"
   ]
  },
  {
   "cell_type": "code",
   "execution_count": null,
   "metadata": {
    "colab": {
     "base_uri": "https://localhost:8080/",
     "height": 0
    },
    "executionInfo": {
     "elapsed": 20,
     "status": "ok",
     "timestamp": 1689263488696,
     "user": {
      "displayName": "Luciano Galdino",
      "userId": "10237697037323960148"
     },
     "user_tz": 180
    },
    "id": "cXVXsyAtFWSo",
    "outputId": "3ed3c1f4-b31d-482f-ac32-80558f9325a7"
   },
   "outputs": [],
   "source": [
    "previsoresdf.describe()"
   ]
  },
  {
   "cell_type": "markdown",
   "metadata": {
    "id": "HU3ZNfuI0BaL"
   },
   "source": [
    "## **Codificação de variáveis categóricas**"
   ]
  },
  {
   "cell_type": "markdown",
   "metadata": {
    "id": "lPObOxwx0Qy5"
   },
   "source": [
    "### **LabelEncoder: transformação de variáveis categóricas em numéricas**\n"
   ]
  },
  {
   "cell_type": "code",
   "execution_count": null,
   "metadata": {
    "executionInfo": {
     "elapsed": 20,
     "status": "ok",
     "timestamp": 1689263488697,
     "user": {
      "displayName": "Luciano Galdino",
      "userId": "10237697037323960148"
     },
     "user_tz": 180
    },
    "id": "oLt4fZ620l-5"
   },
   "outputs": [],
   "source": [
    "from sklearn.preprocessing import LabelEncoder"
   ]
  },
  {
   "cell_type": "code",
   "execution_count": null,
   "metadata": {
    "colab": {
     "base_uri": "https://localhost:8080/",
     "height": 0
    },
    "executionInfo": {
     "elapsed": 19,
     "status": "ok",
     "timestamp": 1689263488697,
     "user": {
      "displayName": "Luciano Galdino",
      "userId": "10237697037323960148"
     },
     "user_tz": 180
    },
    "id": "oJc1Q36h1Ls_",
    "outputId": "8511d5f9-8f5f-4c71-9eee-de3d5982d49f"
   },
   "outputs": [],
   "source": [
    "df.head()"
   ]
  },
  {
   "cell_type": "code",
   "execution_count": null,
   "metadata": {
    "colab": {
     "base_uri": "https://localhost:8080/"
    },
    "executionInfo": {
     "elapsed": 19,
     "status": "ok",
     "timestamp": 1689263488698,
     "user": {
      "displayName": "Luciano Galdino",
      "userId": "10237697037323960148"
     },
     "user_tz": 180
    },
    "id": "0VFq4NJ_181-",
    "outputId": "4a111be4-0ebd-452e-a04e-3856b10102b5"
   },
   "outputs": [],
   "source": [
    "previsores2 = df.iloc[:, 0:11].values\n",
    "previsores2"
   ]
  },
  {
   "cell_type": "code",
   "execution_count": null,
   "metadata": {
    "executionInfo": {
     "elapsed": 19,
     "status": "ok",
     "timestamp": 1689263488699,
     "user": {
      "displayName": "Luciano Galdino",
      "userId": "10237697037323960148"
     },
     "user_tz": 180
    },
    "id": "36oIQ8I10nin"
   },
   "outputs": [],
   "source": [
    "previsores2[:,1] = LabelEncoder().fit_transform(previsores2[:,1])"
   ]
  },
  {
   "cell_type": "code",
   "execution_count": null,
   "metadata": {
    "colab": {
     "base_uri": "https://localhost:8080/"
    },
    "executionInfo": {
     "elapsed": 19,
     "status": "ok",
     "timestamp": 1689263488699,
     "user": {
      "displayName": "Luciano Galdino",
      "userId": "10237697037323960148"
     },
     "user_tz": 180
    },
    "id": "IZQuLVsb1kMW",
    "outputId": "37bbf153-5220-4cc3-d26e-3d1875a33f25"
   },
   "outputs": [],
   "source": [
    "previsores2"
   ]
  },
  {
   "cell_type": "code",
   "execution_count": null,
   "metadata": {
    "executionInfo": {
     "elapsed": 19,
     "status": "ok",
     "timestamp": 1689263488700,
     "user": {
      "displayName": "Luciano Galdino",
      "userId": "10237697037323960148"
     },
     "user_tz": 180
    },
    "id": "VAV6Jrmg00_B"
   },
   "outputs": [],
   "source": [
    "previsores2[:,2] = LabelEncoder().fit_transform(previsores2[:,2])\n",
    "previsores2[:,6] = LabelEncoder().fit_transform(previsores2[:,6])\n",
    "previsores2[:,8] = LabelEncoder().fit_transform(previsores2[:,8])\n",
    "previsores2[:,10] = LabelEncoder().fit_transform(previsores2[:,10])"
   ]
  },
  {
   "cell_type": "code",
   "execution_count": null,
   "metadata": {
    "colab": {
     "base_uri": "https://localhost:8080/"
    },
    "executionInfo": {
     "elapsed": 465,
     "status": "ok",
     "timestamp": 1689263489146,
     "user": {
      "displayName": "Luciano Galdino",
      "userId": "10237697037323960148"
     },
     "user_tz": 180
    },
    "id": "6OYCPPGa3EE6",
    "outputId": "cc9ca281-819b-4f6a-cf90-ef818894240c"
   },
   "outputs": [],
   "source": [
    "previsores2"
   ]
  },
  {
   "cell_type": "code",
   "execution_count": null,
   "metadata": {
    "colab": {
     "base_uri": "https://localhost:8080/"
    },
    "executionInfo": {
     "elapsed": 21,
     "status": "ok",
     "timestamp": 1689263489147,
     "user": {
      "displayName": "Luciano Galdino",
      "userId": "10237697037323960148"
     },
     "user_tz": 180
    },
    "id": "SV6SHdiD3i_Z",
    "outputId": "4b0af898-a978-4f69-834f-80abaf530e05"
   },
   "outputs": [],
   "source": [
    "previsores2.shape"
   ]
  },
  {
   "cell_type": "markdown",
   "metadata": {
    "id": "PIqEAMoH52Og"
   },
   "source": [
    "### **OneHotEncoder: Criação de variáveis Dummy (fictícia).**"
   ]
  },
  {
   "cell_type": "markdown",
   "metadata": {
    "id": "Ic1BCbFvGTNL"
   },
   "source": [
    "Cuidado com a multicolinearidade (variáveis altamente correlacionadas entre si)."
   ]
  },
  {
   "cell_type": "markdown",
   "metadata": {
    "id": "ruBvkbyn74ly"
   },
   "source": [
    "![image.png](data:image/png;base64,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)"
   ]
  },
  {
   "cell_type": "markdown",
   "metadata": {
    "id": "ZszZwZIBPrQR"
   },
   "source": [
    "A   B   C   D   \n",
    "1   0   0   0   \n",
    "0   1   0   0   \n",
    "0   0   1   0   \n",
    "0   0   0   1\n"
   ]
  },
  {
   "cell_type": "code",
   "execution_count": null,
   "metadata": {
    "executionInfo": {
     "elapsed": 17,
     "status": "ok",
     "timestamp": 1689263489147,
     "user": {
      "displayName": "Luciano Galdino",
      "userId": "10237697037323960148"
     },
     "user_tz": 180
    },
    "id": "YeSR7cQC8uCQ"
   },
   "outputs": [],
   "source": [
    "from sklearn.preprocessing import OneHotEncoder\n",
    "from sklearn.compose import ColumnTransformer"
   ]
  },
  {
   "cell_type": "code",
   "execution_count": null,
   "metadata": {
    "executionInfo": {
     "elapsed": 18,
     "status": "ok",
     "timestamp": 1689263489148,
     "user": {
      "displayName": "Luciano Galdino",
      "userId": "10237697037323960148"
     },
     "user_tz": 180
    },
    "id": "qx2UeR9S2Whp"
   },
   "outputs": [],
   "source": [
    "ColumnTransformer?"
   ]
  },
  {
   "cell_type": "markdown",
   "metadata": {
    "id": "ZT_BjSzytpVX"
   },
   "source": [
    "Parâmetros ColumnTransformer\n",
    "- name: nome dado a transformação.\n",
    "- transformer: tipo de estimador (OneHotEncoder).\n",
    "- columns: colunas que serão transformadas.\n",
    "- remainder: o que acontecerá com o restante das colunas não relacionadas:\n",
    "1) drop = exclui as outras colunas.\n",
    "2) passthrough = mantém as outras colunas. drop é default.  \n",
    "- sparse_threshold: parâmetro de classificação de matrizes esparsas. default é 0.3\n",
    "- n_jobs: número de trabalhos a serem executados em paralelo. default é nenhum\n",
    "- transformer_weights: definição de pesos aos transformadores.\n",
    "-verbose: default é False. se for True a execução é apresentada na tela."
   ]
  },
  {
   "cell_type": "code",
   "execution_count": null,
   "metadata": {
    "executionInfo": {
     "elapsed": 43,
     "status": "ok",
     "timestamp": 1689263489174,
     "user": {
      "displayName": "Luciano Galdino",
      "userId": "10237697037323960148"
     },
     "user_tz": 180
    },
    "id": "rXFOyMmd9JEB"
   },
   "outputs": [],
   "source": [
    "previsores3 = ColumnTransformer(transformers=[('OneHot', OneHotEncoder(), [1,2,6,8,10])],\n",
    "                                remainder='passthrough').fit_transform(previsores2)"
   ]
  },
  {
   "cell_type": "code",
   "execution_count": null,
   "metadata": {
    "colab": {
     "base_uri": "https://localhost:8080/"
    },
    "executionInfo": {
     "elapsed": 44,
     "status": "ok",
     "timestamp": 1689263489175,
     "user": {
      "displayName": "Luciano Galdino",
      "userId": "10237697037323960148"
     },
     "user_tz": 180
    },
    "id": "F_H3hiDD_pfB",
    "outputId": "094e4588-1230-4df3-bd41-8a74229d7307"
   },
   "outputs": [],
   "source": [
    "previsores3"
   ]
  },
  {
   "cell_type": "code",
   "execution_count": null,
   "metadata": {
    "colab": {
     "base_uri": "https://localhost:8080/"
    },
    "executionInfo": {
     "elapsed": 44,
     "status": "ok",
     "timestamp": 1689263489176,
     "user": {
      "displayName": "Luciano Galdino",
      "userId": "10237697037323960148"
     },
     "user_tz": 180
    },
    "id": "eZ-nG4XEBMXU",
    "outputId": "401bc5b5-0b89-4929-80c8-7a534a2989fa"
   },
   "outputs": [],
   "source": [
    "previsores3.shape"
   ]
  },
  {
   "cell_type": "code",
   "execution_count": null,
   "metadata": {
    "colab": {
     "base_uri": "https://localhost:8080/",
     "height": 0
    },
    "executionInfo": {
     "elapsed": 44,
     "status": "ok",
     "timestamp": 1689263489177,
     "user": {
      "displayName": "Luciano Galdino",
      "userId": "10237697037323960148"
     },
     "user_tz": 180
    },
    "id": "1iTTX6b0C_0-",
    "outputId": "445b8642-b7a5-4de0-f9b1-2808cb8e1197"
   },
   "outputs": [],
   "source": [
    "previsores3df = pd.DataFrame(previsores3)\n",
    "previsores3df.head()"
   ]
  },
  {
   "cell_type": "code",
   "execution_count": null,
   "metadata": {
    "colab": {
     "base_uri": "https://localhost:8080/",
     "height": 0
    },
    "executionInfo": {
     "elapsed": 43,
     "status": "ok",
     "timestamp": 1689263489177,
     "user": {
      "displayName": "Luciano Galdino",
      "userId": "10237697037323960148"
     },
     "user_tz": 180
    },
    "id": "KTfczx7EDvwc",
    "outputId": "c77094cc-f44c-4c6b-ae68-f53e5f20c790"
   },
   "outputs": [],
   "source": [
    "df.head()"
   ]
  },
  {
   "cell_type": "markdown",
   "metadata": {
    "id": "YWlyb9T-Fk1I"
   },
   "source": [
    "## **Escalonamento**"
   ]
  },
  {
   "cell_type": "code",
   "execution_count": null,
   "metadata": {
    "executionInfo": {
     "elapsed": 41,
     "status": "ok",
     "timestamp": 1689263489177,
     "user": {
      "displayName": "Luciano Galdino",
      "userId": "10237697037323960148"
     },
     "user_tz": 180
    },
    "id": "x4jzommSFk1L"
   },
   "outputs": [],
   "source": [
    "from sklearn.preprocessing import StandardScaler"
   ]
  },
  {
   "cell_type": "code",
   "execution_count": null,
   "metadata": {
    "executionInfo": {
     "elapsed": 42,
     "status": "ok",
     "timestamp": 1689263489178,
     "user": {
      "displayName": "Luciano Galdino",
      "userId": "10237697037323960148"
     },
     "user_tz": 180
    },
    "id": "nvLu4mtDFk1L"
   },
   "outputs": [],
   "source": [
    "previsores3_esc = StandardScaler().fit_transform(previsores3)"
   ]
  },
  {
   "cell_type": "code",
   "execution_count": null,
   "metadata": {
    "colab": {
     "base_uri": "https://localhost:8080/"
    },
    "executionInfo": {
     "elapsed": 465,
     "status": "ok",
     "timestamp": 1689263489601,
     "user": {
      "displayName": "Luciano Galdino",
      "userId": "10237697037323960148"
     },
     "user_tz": 180
    },
    "id": "eFTA8spkFk1M",
    "outputId": "a8605f8d-1da6-4555-a906-a1e048890094"
   },
   "outputs": [],
   "source": [
    "previsores3_esc"
   ]
  },
  {
   "cell_type": "code",
   "execution_count": null,
   "metadata": {
    "colab": {
     "base_uri": "https://localhost:8080/",
     "height": 0
    },
    "executionInfo": {
     "elapsed": 10,
     "status": "ok",
     "timestamp": 1689263489601,
     "user": {
      "displayName": "Luciano Galdino",
      "userId": "10237697037323960148"
     },
     "user_tz": 180
    },
    "id": "w6JQStnqFk1M",
    "outputId": "649331d8-8f89-4c76-d4c5-f7d2bc6103d0"
   },
   "outputs": [],
   "source": [
    "previsores3df = pd.DataFrame(previsores3_esc)\n",
    "previsores3df"
   ]
  },
  {
   "cell_type": "code",
   "execution_count": null,
   "metadata": {
    "colab": {
     "base_uri": "https://localhost:8080/",
     "height": 0
    },
    "executionInfo": {
     "elapsed": 10,
     "status": "ok",
     "timestamp": 1689263489602,
     "user": {
      "displayName": "Luciano Galdino",
      "userId": "10237697037323960148"
     },
     "user_tz": 180
    },
    "id": "e-dcMRS-Fk1N",
    "outputId": "91056deb-e93c-4305-bd9d-d67f2b030981"
   },
   "outputs": [],
   "source": [
    "previsores3df.describe()"
   ]
  },
  {
   "cell_type": "markdown",
   "metadata": {
    "id": "kW700Sj9Fk1O"
   },
   "source": [
    "## **RESUMO PRÉ-PROCESSAMENTO**"
   ]
  },
  {
   "cell_type": "markdown",
   "metadata": {
    "id": "k-L1kFumG1pO"
   },
   "source": [
    "alvo = variável que se pretende atingir (tem ou não doença cardíaca).\n",
    "\n",
    "previsores = conjunto de variáveis previsoras com as variáveis categóricas transformadas em numéricas manualmente, sem escalonar.\n",
    "\n",
    "previsores_esc = conjunto de variáveis previsoras com as variáveis categóricas transformadas em numéricas, escalonada.\n",
    "\n",
    "previsores2 = conjunto de variáveis previsoras com as variáveis categóricas transformadas em numéricas pelo labelencoder.\n",
    "\n",
    "previsores3 = conjunto de variáveis previsoras transformadas pelo labelencoder e onehotencoder, sem escalonar.\n",
    "\n",
    "previsores3_esc = conjunto de variáveis previsoras transformadas pelo labelencoder e onehotencoder escalonada."
   ]
  },
  {
   "cell_type": "markdown",
   "metadata": {
    "id": "S3Kl3wySKBEw"
   },
   "source": [
    "## **Redução de dimensionalidade**"
   ]
  },
  {
   "cell_type": "markdown",
   "metadata": {
    "id": "w5fLfwjg8xrw"
   },
   "source": [
    "Objetivo é selecionar os melhores componentes (atributos) para treinamento do algoritmo, através da análise das correlações entre as variáveis."
   ]
  },
  {
   "cell_type": "markdown",
   "metadata": {
    "id": "6OurC4GyUoak"
   },
   "source": [
    "### Análise dos Componentes Principais (PCA)"
   ]
  },
  {
   "cell_type": "markdown",
   "metadata": {
    "id": "iB5XY2Tf9AH5"
   },
   "source": [
    "**Seleção de características:** seleciona os melhores atributos e utiliza sem transformações.\n",
    "\n",
    "**Extração de Características:** Encontra os relacionamentos dos melhores atributos e cria novos atributos.\n",
    "\n",
    "É um algoritmo de aprendizagem não supervisionada.\n",
    "\n",
    "Aplica-se em dados linearmente separáveis."
   ]
  },
  {
   "cell_type": "code",
   "execution_count": null,
   "metadata": {
    "executionInfo": {
     "elapsed": 424,
     "status": "ok",
     "timestamp": 1689263490018,
     "user": {
      "displayName": "Luciano Galdino",
      "userId": "10237697037323960148"
     },
     "user_tz": 180
    },
    "id": "j2adDUMyX3d2"
   },
   "outputs": [],
   "source": [
    "from sklearn.decomposition import PCA"
   ]
  },
  {
   "cell_type": "code",
   "execution_count": null,
   "metadata": {
    "executionInfo": {
     "elapsed": 24,
     "status": "ok",
     "timestamp": 1689263490020,
     "user": {
      "displayName": "Luciano Galdino",
      "userId": "10237697037323960148"
     },
     "user_tz": 180
    },
    "id": "ZmpO8urpX8kz"
   },
   "outputs": [],
   "source": [
    "pca = PCA(n_components=3)"
   ]
  },
  {
   "cell_type": "code",
   "execution_count": null,
   "metadata": {
    "executionInfo": {
     "elapsed": 23,
     "status": "ok",
     "timestamp": 1689263490020,
     "user": {
      "displayName": "Luciano Galdino",
      "userId": "10237697037323960148"
     },
     "user_tz": 180
    },
    "id": "zVHnZ8rYYOeL"
   },
   "outputs": [],
   "source": [
    "previsores_pca = pca.fit_transform(previsores2)"
   ]
  },
  {
   "cell_type": "code",
   "execution_count": null,
   "metadata": {
    "colab": {
     "base_uri": "https://localhost:8080/"
    },
    "executionInfo": {
     "elapsed": 23,
     "status": "ok",
     "timestamp": 1689263490021,
     "user": {
      "displayName": "Luciano Galdino",
      "userId": "10237697037323960148"
     },
     "user_tz": 180
    },
    "id": "5Ouz2wdFYkJh",
    "outputId": "87be7cc6-296d-4c01-fe24-ba8599abb59f"
   },
   "outputs": [],
   "source": [
    "previsores_pca.shape"
   ]
  },
  {
   "cell_type": "code",
   "execution_count": null,
   "metadata": {
    "colab": {
     "base_uri": "https://localhost:8080/"
    },
    "executionInfo": {
     "elapsed": 21,
     "status": "ok",
     "timestamp": 1689263490022,
     "user": {
      "displayName": "Luciano Galdino",
      "userId": "10237697037323960148"
     },
     "user_tz": 180
    },
    "id": "i06cyMBkYubR",
    "outputId": "27469ffe-363e-492a-8f1a-b9896508b95a"
   },
   "outputs": [],
   "source": [
    "# Componentes principais\n",
    "previsores_pca"
   ]
  },
  {
   "cell_type": "code",
   "execution_count": null,
   "metadata": {
    "colab": {
     "base_uri": "https://localhost:8080/"
    },
    "executionInfo": {
     "elapsed": 20,
     "status": "ok",
     "timestamp": 1689263490023,
     "user": {
      "displayName": "Luciano Galdino",
      "userId": "10237697037323960148"
     },
     "user_tz": 180
    },
    "id": "hdBAi-piY28x",
    "outputId": "3213c352-1979-43d6-ac4e-246e36ef08f8"
   },
   "outputs": [],
   "source": [
    "# razão das variáveis explicativas\n",
    "pca.explained_variance_ratio_"
   ]
  },
  {
   "cell_type": "code",
   "execution_count": null,
   "metadata": {
    "colab": {
     "base_uri": "https://localhost:8080/"
    },
    "executionInfo": {
     "elapsed": 20,
     "status": "ok",
     "timestamp": 1689263490025,
     "user": {
      "displayName": "Luciano Galdino",
      "userId": "10237697037323960148"
     },
     "user_tz": 180
    },
    "id": "lBxPFP0VZR1I",
    "outputId": "bd7ba18a-0506-4c89-b078-fc7049ad36cc"
   },
   "outputs": [],
   "source": [
    "# Soma das variáveis explicativas\n",
    "pca.explained_variance_ratio_.sum()"
   ]
  },
  {
   "cell_type": "markdown",
   "metadata": {
    "id": "2UhdSgBmUtJ6"
   },
   "source": [
    "### Kernel PCA"
   ]
  },
  {
   "cell_type": "markdown",
   "metadata": {
    "id": "1DM-bEoM_JzC"
   },
   "source": [
    "É um algoritmo de aprendizagem não supervisionada.\n",
    "\n",
    "Aplica-se também em dados linearmente não separáveis."
   ]
  },
  {
   "cell_type": "code",
   "execution_count": null,
   "metadata": {
    "executionInfo": {
     "elapsed": 19,
     "status": "ok",
     "timestamp": 1689263490026,
     "user": {
      "displayName": "Luciano Galdino",
      "userId": "10237697037323960148"
     },
     "user_tz": 180
    },
    "id": "z4ATtNXscFq2"
   },
   "outputs": [],
   "source": [
    "from sklearn.decomposition import KernelPCA"
   ]
  },
  {
   "cell_type": "code",
   "execution_count": null,
   "metadata": {
    "executionInfo": {
     "elapsed": 20,
     "status": "ok",
     "timestamp": 1689263490027,
     "user": {
      "displayName": "Luciano Galdino",
      "userId": "10237697037323960148"
     },
     "user_tz": 180
    },
    "id": "8kB6ZCIvcNb1"
   },
   "outputs": [],
   "source": [
    "kpca = KernelPCA(n_components=4, kernel='rbf')"
   ]
  },
  {
   "cell_type": "code",
   "execution_count": null,
   "metadata": {
    "executionInfo": {
     "elapsed": 833,
     "status": "ok",
     "timestamp": 1689263490841,
     "user": {
      "displayName": "Luciano Galdino",
      "userId": "10237697037323960148"
     },
     "user_tz": 180
    },
    "id": "bRAZ06bXPspG"
   },
   "outputs": [],
   "source": [
    "previsores_kernel = kpca.fit_transform(previsores2)"
   ]
  },
  {
   "cell_type": "code",
   "execution_count": null,
   "metadata": {
    "colab": {
     "base_uri": "https://localhost:8080/"
    },
    "executionInfo": {
     "elapsed": 23,
     "status": "ok",
     "timestamp": 1689263490841,
     "user": {
      "displayName": "Luciano Galdino",
      "userId": "10237697037323960148"
     },
     "user_tz": 180
    },
    "id": "tswhvRYtdMvr",
    "outputId": "3785caf2-f90c-47cf-990d-79a046d93ab8"
   },
   "outputs": [],
   "source": [
    "previsores_kernel.shape"
   ]
  },
  {
   "cell_type": "code",
   "execution_count": null,
   "metadata": {
    "colab": {
     "base_uri": "https://localhost:8080/"
    },
    "executionInfo": {
     "elapsed": 22,
     "status": "ok",
     "timestamp": 1689263490842,
     "user": {
      "displayName": "Luciano Galdino",
      "userId": "10237697037323960148"
     },
     "user_tz": 180
    },
    "id": "age1iPvsdZg-",
    "outputId": "6953db9e-2e89-4cfb-b1fb-05a312d2b68d"
   },
   "outputs": [],
   "source": [
    "previsores_kernel"
   ]
  },
  {
   "cell_type": "markdown",
   "metadata": {
    "id": "u3jQ6H1S-HtG"
   },
   "source": [
    "### **Análise do Discriminante Linear (LDA: Linear Discriminant Analysis)**"
   ]
  },
  {
   "cell_type": "markdown",
   "metadata": {
    "id": "NqO1DSAP-7tT"
   },
   "source": [
    "Algoritmo de aprendizagem supervisionada, pois utiliza a classe como referência para seleção.\n",
    "\n",
    "Aplicado em situações com muitos atributos previsores e também com o atributo alvo com muitas classes."
   ]
  },
  {
   "cell_type": "code",
   "execution_count": null,
   "metadata": {
    "executionInfo": {
     "elapsed": 20,
     "status": "ok",
     "timestamp": 1689263490842,
     "user": {
      "displayName": "Luciano Galdino",
      "userId": "10237697037323960148"
     },
     "user_tz": 180
    },
    "id": "3RRYZemLenmT"
   },
   "outputs": [],
   "source": [
    "from sklearn.discriminant_analysis import LinearDiscriminantAnalysis\n",
    "lda = LinearDiscriminantAnalysis(n_components = 1)"
   ]
  },
  {
   "cell_type": "code",
   "execution_count": null,
   "metadata": {
    "executionInfo": {
     "elapsed": 20,
     "status": "ok",
     "timestamp": 1689263490843,
     "user": {
      "displayName": "Luciano Galdino",
      "userId": "10237697037323960148"
     },
     "user_tz": 180
    },
    "id": "onA-GJZafCLU"
   },
   "outputs": [],
   "source": [
    "previsores_lda = lda.fit_transform(previsores2, alvo)"
   ]
  },
  {
   "cell_type": "code",
   "execution_count": null,
   "metadata": {
    "colab": {
     "base_uri": "https://localhost:8080/"
    },
    "executionInfo": {
     "elapsed": 20,
     "status": "ok",
     "timestamp": 1689263490843,
     "user": {
      "displayName": "Luciano Galdino",
      "userId": "10237697037323960148"
     },
     "user_tz": 180
    },
    "id": "Y2qtrFLrBVzr",
    "outputId": "e2b672d8-57a1-41e9-94d2-493fe2c83cf2"
   },
   "outputs": [],
   "source": [
    "previsores_lda"
   ]
  },
  {
   "cell_type": "code",
   "execution_count": null,
   "metadata": {
    "colab": {
     "base_uri": "https://localhost:8080/"
    },
    "executionInfo": {
     "elapsed": 21,
     "status": "ok",
     "timestamp": 1689263490846,
     "user": {
      "displayName": "Luciano Galdino",
      "userId": "10237697037323960148"
     },
     "user_tz": 180
    },
    "id": "g5l0JnpGBfn7",
    "outputId": "6fca1b75-5464-4b74-c1be-1a22f5dd9d4f"
   },
   "outputs": [],
   "source": [
    "lda.explained_variance_ratio_"
   ]
  },
  {
   "cell_type": "markdown",
   "metadata": {
    "id": "Caf7XRsO4BYE"
   },
   "source": [
    "## **Salvando as variáveis (atributos)**"
   ]
  },
  {
   "cell_type": "code",
   "execution_count": null,
   "metadata": {
    "executionInfo": {
     "elapsed": 20,
     "status": "ok",
     "timestamp": 1689263490846,
     "user": {
      "displayName": "Luciano Galdino",
      "userId": "10237697037323960148"
     },
     "user_tz": 180
    },
    "id": "Vn6R_DKHhG0u"
   },
   "outputs": [],
   "source": [
    "import pickle"
   ]
  },
  {
   "cell_type": "code",
   "execution_count": null,
   "metadata": {
    "executionInfo": {
     "elapsed": 21,
     "status": "ok",
     "timestamp": 1689263490847,
     "user": {
      "displayName": "Luciano Galdino",
      "userId": "10237697037323960148"
     },
     "user_tz": 180
    },
    "id": "DuPE27wl-vBw"
   },
   "outputs": [],
   "source": [
    "# Criando arquivo\n",
    "arq1 = open('heart.pkl', 'wb')"
   ]
  },
  {
   "cell_type": "code",
   "execution_count": null,
   "metadata": {
    "executionInfo": {
     "elapsed": 20,
     "status": "ok",
     "timestamp": 1689263490847,
     "user": {
      "displayName": "Luciano Galdino",
      "userId": "10237697037323960148"
     },
     "user_tz": 180
    },
    "id": "jTvKGTxnHien"
   },
   "outputs": [],
   "source": [
    "# Salvando a variável no arquivo\n",
    "pickle.dump(alvo, arq1)"
   ]
  },
  {
   "cell_type": "code",
   "execution_count": null,
   "metadata": {
    "executionInfo": {
     "elapsed": 20,
     "status": "ok",
     "timestamp": 1689263490847,
     "user": {
      "displayName": "Luciano Galdino",
      "userId": "10237697037323960148"
     },
     "user_tz": 180
    },
    "id": "sle5bDZZIJjt"
   },
   "outputs": [],
   "source": [
    "# Fechando arquivo\n",
    "arq1.close()"
   ]
  },
  {
   "cell_type": "code",
   "execution_count": null,
   "metadata": {
    "executionInfo": {
     "elapsed": 21,
     "status": "ok",
     "timestamp": 1689263490848,
     "user": {
      "displayName": "Luciano Galdino",
      "userId": "10237697037323960148"
     },
     "user_tz": 180
    },
    "id": "5-HNb-3IISWs"
   },
   "outputs": [],
   "source": [
    "# Lendo arquivo\n",
    "arq1 = open('heart.pkl', 'rb')"
   ]
  },
  {
   "cell_type": "code",
   "execution_count": null,
   "metadata": {
    "executionInfo": {
     "elapsed": 20,
     "status": "ok",
     "timestamp": 1689263490848,
     "user": {
      "displayName": "Luciano Galdino",
      "userId": "10237697037323960148"
     },
     "user_tz": 180
    },
    "id": "poLMbNNvIjlz"
   },
   "outputs": [],
   "source": [
    "# Chamando a variável\n",
    "alvo = pickle.load(arq1)"
   ]
  },
  {
   "cell_type": "code",
   "execution_count": null,
   "metadata": {
    "colab": {
     "base_uri": "https://localhost:8080/"
    },
    "executionInfo": {
     "elapsed": 20,
     "status": "ok",
     "timestamp": 1689263490848,
     "user": {
      "displayName": "Luciano Galdino",
      "userId": "10237697037323960148"
     },
     "user_tz": 180
    },
    "id": "MZHEQpHeKzK_",
    "outputId": "1a35ba14-0f98-4ab7-a94b-e0b2fa597877"
   },
   "outputs": [],
   "source": [
    "alvo"
   ]
  },
  {
   "cell_type": "code",
   "execution_count": null,
   "metadata": {
    "executionInfo": {
     "elapsed": 20,
     "status": "ok",
     "timestamp": 1689263490849,
     "user": {
      "displayName": "Luciano Galdino",
      "userId": "10237697037323960148"
     },
     "user_tz": 180
    },
    "id": "hb4PNxyzQgC1"
   },
   "outputs": [],
   "source": [
    "# Criando arquivos e Salvando as variáveis\n",
    "arq2 = open('heart2.pkl', 'wb')\n",
    "pickle.dump(previsores, arq2)\n",
    "arq3 = open('heart3.pkl', 'wb')\n",
    "pickle.dump(previsores_esc, arq3)\n",
    "arq4 = open('heart4.pkl', 'wb')\n",
    "pickle.dump(previsores2, arq4)\n",
    "arq5 = open('heart5.pkl', 'wb')\n",
    "pickle.dump(previsores3, arq5)\n",
    "arq6 = open('heart6.pkl', 'wb')\n",
    "pickle.dump(previsores3_esc, arq6)"
   ]
  },
  {
   "cell_type": "code",
   "execution_count": null,
   "metadata": {
    "executionInfo": {
     "elapsed": 19,
     "status": "ok",
     "timestamp": 1689263490849,
     "user": {
      "displayName": "Luciano Galdino",
      "userId": "10237697037323960148"
     },
     "user_tz": 180
    },
    "id": "i7noq9dAEwog"
   },
   "outputs": [],
   "source": [
    "arq2 = open('heart2.pkl', 'rb')"
   ]
  },
  {
   "cell_type": "code",
   "execution_count": null,
   "metadata": {
    "executionInfo": {
     "elapsed": 20,
     "status": "ok",
     "timestamp": 1689263490850,
     "user": {
      "displayName": "Luciano Galdino",
      "userId": "10237697037323960148"
     },
     "user_tz": 180
    },
    "id": "sNSCfClWE0_G"
   },
   "outputs": [],
   "source": [
    "previsores = pickle.load(arq2)"
   ]
  },
  {
   "cell_type": "code",
   "execution_count": null,
   "metadata": {
    "colab": {
     "base_uri": "https://localhost:8080/"
    },
    "executionInfo": {
     "elapsed": 22,
     "status": "ok",
     "timestamp": 1689263490852,
     "user": {
      "displayName": "Luciano Galdino",
      "userId": "10237697037323960148"
     },
     "user_tz": 180
    },
    "id": "3rE0rqRXRxR3",
    "outputId": "46e7a306-7f57-4e50-8dd2-51241541e571"
   },
   "outputs": [],
   "source": [
    "previsores"
   ]
  },
  {
   "cell_type": "markdown",
   "metadata": {
    "id": "w-W634n0I_Db"
   },
   "source": [
    "## **BASE DE TREINO E TESTE**"
   ]
  },
  {
   "cell_type": "code",
   "execution_count": null,
   "metadata": {
    "executionInfo": {
     "elapsed": 22,
     "status": "ok",
     "timestamp": 1689263490853,
     "user": {
      "displayName": "Luciano Galdino",
      "userId": "10237697037323960148"
     },
     "user_tz": 180
    },
    "id": "UmjBvEubFG72"
   },
   "outputs": [],
   "source": [
    "from sklearn.model_selection import train_test_split"
   ]
  },
  {
   "cell_type": "markdown",
   "metadata": {
    "id": "cB1szLDSyfzA"
   },
   "source": [
    "Parâmetros train_test_split:   \n",
    "- arrays: nomes dos atributos previsores e alvo.   \n",
    "- test_size: tamanho em porcentagem dos dados de teste. default é none.   \n",
    "- train_size: tamanho em porcentagem dos dados de treinamento.default é none.  \n",
    "- random_state: nomeação de um estado aleatório.   \n",
    "- shuffle: embaralhamento dos dados aleatórios. Associado com o random_state ocorre o mesmo embaralhamento sempre. Default é True.  \n",
    "- stratify: Possibilidade de dividir os dados de forma estratificada. Default é None (nesse caso é mantido a proporção, isto é, se tem 30% de zeros e 70% de 1 no dataframe, na separação em treinamento e teste se manterá essa proporção)."
   ]
  },
  {
   "cell_type": "code",
   "execution_count": null,
   "metadata": {
    "executionInfo": {
     "elapsed": 22,
     "status": "ok",
     "timestamp": 1689263490854,
     "user": {
      "displayName": "Luciano Galdino",
      "userId": "10237697037323960148"
     },
     "user_tz": 180
    },
    "id": "JFn1OrYtF0m9"
   },
   "outputs": [],
   "source": [
    "x_treino, x_teste, y_treino, y_teste = train_test_split(previsores2, alvo, test_size = 0.3, random_state = 0)"
   ]
  },
  {
   "cell_type": "code",
   "execution_count": null,
   "metadata": {
    "colab": {
     "base_uri": "https://localhost:8080/"
    },
    "executionInfo": {
     "elapsed": 22,
     "status": "ok",
     "timestamp": 1689263490854,
     "user": {
      "displayName": "Luciano Galdino",
      "userId": "10237697037323960148"
     },
     "user_tz": 180
    },
    "id": "Xza9uNMgJFD8",
    "outputId": "d834aa82-25cf-46df-b785-190204a4ccb4"
   },
   "outputs": [],
   "source": [
    "x_treino.shape"
   ]
  },
  {
   "cell_type": "code",
   "execution_count": null,
   "metadata": {
    "colab": {
     "base_uri": "https://localhost:8080/"
    },
    "executionInfo": {
     "elapsed": 21,
     "status": "ok",
     "timestamp": 1689263490854,
     "user": {
      "displayName": "Luciano Galdino",
      "userId": "10237697037323960148"
     },
     "user_tz": 180
    },
    "id": "gM74hUlEJNOZ",
    "outputId": "af39def4-474b-45b9-af79-294ab9af123e"
   },
   "outputs": [],
   "source": [
    "x_teste.shape"
   ]
  },
  {
   "cell_type": "code",
   "execution_count": null,
   "metadata": {
    "colab": {
     "base_uri": "https://localhost:8080/"
    },
    "executionInfo": {
     "elapsed": 21,
     "status": "ok",
     "timestamp": 1689263490855,
     "user": {
      "displayName": "Luciano Galdino",
      "userId": "10237697037323960148"
     },
     "user_tz": 180
    },
    "id": "lGzLxpISJeWG",
    "outputId": "7975d218-6130-4d38-df1b-3c1f5724fb33"
   },
   "outputs": [],
   "source": [
    "y_treino.shape"
   ]
  },
  {
   "cell_type": "code",
   "execution_count": null,
   "metadata": {
    "colab": {
     "base_uri": "https://localhost:8080/"
    },
    "executionInfo": {
     "elapsed": 21,
     "status": "ok",
     "timestamp": 1689263490855,
     "user": {
      "displayName": "Luciano Galdino",
      "userId": "10237697037323960148"
     },
     "user_tz": 180
    },
    "id": "ZUojufPlJnhy",
    "outputId": "210f7d9b-9627-48d2-a21d-dbdb6b330222"
   },
   "outputs": [],
   "source": [
    "y_teste.shape"
   ]
  },
  {
   "cell_type": "markdown",
   "metadata": {
    "id": "f6u542_aEj6B"
   },
   "source": [
    "# **NAIVE BAYES**"
   ]
  },
  {
   "cell_type": "markdown",
   "metadata": {
    "id": "2tnCKM7kcfQl"
   },
   "source": [
    "https://scikit-learn.org/stable/modules/naive_bayes.html"
   ]
  },
  {
   "cell_type": "markdown",
   "metadata": {
    "id": "-GK8qvcgzWGQ"
   },
   "source": [
    "Treinamento do algoritmo"
   ]
  },
  {
   "cell_type": "code",
   "execution_count": null,
   "metadata": {
    "id": "YhAnMs4TJRoa"
   },
   "outputs": [],
   "source": [
    "from sklearn.naive_bayes import GaussianNB"
   ]
  },
  {
   "cell_type": "code",
   "execution_count": null,
   "metadata": {
    "id": "ak0_M56CJheq"
   },
   "outputs": [],
   "source": [
    "naive = GaussianNB()\n",
    "naive.fit(x_treino, y_treino)"
   ]
  },
  {
   "cell_type": "markdown",
   "metadata": {
    "id": "neBugc1HzbL_"
   },
   "source": [
    "Avaliação do algoritmo"
   ]
  },
  {
   "cell_type": "code",
   "execution_count": null,
   "metadata": {
    "id": "ac4kuVBsJ85p"
   },
   "outputs": [],
   "source": [
    "previsoes_naive = naive.predict(x_teste)\n",
    "previsoes_naive"
   ]
  },
  {
   "cell_type": "code",
   "execution_count": null,
   "metadata": {
    "id": "aBPvzhRUKLoZ"
   },
   "outputs": [],
   "source": [
    "y_teste"
   ]
  },
  {
   "cell_type": "code",
   "execution_count": null,
   "metadata": {
    "id": "OEXPFIiVKUl_"
   },
   "outputs": [],
   "source": [
    "from sklearn.metrics import accuracy_score, confusion_matrix, classification_report"
   ]
  },
  {
   "cell_type": "code",
   "execution_count": null,
   "metadata": {
    "id": "hojdvgEgKYjg"
   },
   "outputs": [],
   "source": [
    "accuracy_score(y_teste, previsoes_naive)"
   ]
  },
  {
   "cell_type": "code",
   "execution_count": null,
   "metadata": {
    "id": "R8rjCRA7CwLV"
   },
   "outputs": [],
   "source": [
    "print(\"Acurácia: %.2f%%\" % (accuracy_score(y_teste, previsoes_naive) * 100.0))"
   ]
  },
  {
   "cell_type": "code",
   "execution_count": null,
   "metadata": {
    "id": "N_xxZiTXKeG3"
   },
   "outputs": [],
   "source": [
    "confusion_matrix(y_teste, previsoes_naive)"
   ]
  },
  {
   "cell_type": "code",
   "execution_count": null,
   "metadata": {
    "id": "CZMZ_zPNKzqW"
   },
   "outputs": [],
   "source": [
    "print(classification_report(y_teste, previsoes_naive))"
   ]
  },
  {
   "cell_type": "markdown",
   "metadata": {
    "id": "Gnte-P_e0536"
   },
   "source": [
    "**Análise dados de treino**"
   ]
  },
  {
   "cell_type": "code",
   "execution_count": null,
   "metadata": {
    "id": "_t9CZH8qz9w-"
   },
   "outputs": [],
   "source": [
    "previsoes_treino = naive.predict(x_treino)\n",
    "previsoes_treino"
   ]
  },
  {
   "cell_type": "code",
   "execution_count": null,
   "metadata": {
    "id": "ixfPbrJB0iEE"
   },
   "outputs": [],
   "source": [
    "accuracy_score(y_treino, previsoes_treino)"
   ]
  },
  {
   "cell_type": "code",
   "execution_count": null,
   "metadata": {
    "id": "nyTX_2Te0suq"
   },
   "outputs": [],
   "source": [
    "confusion_matrix(y_treino, previsoes_treino)"
   ]
  },
  {
   "cell_type": "markdown",
   "metadata": {
    "id": "rNsT6wAn_e1l"
   },
   "source": [
    "### **Validação Cruzada**"
   ]
  },
  {
   "cell_type": "code",
   "execution_count": null,
   "metadata": {
    "id": "lvBuy5bm_qok"
   },
   "outputs": [],
   "source": [
    "from sklearn.model_selection import KFold\n",
    "from sklearn.model_selection import cross_val_score"
   ]
  },
  {
   "cell_type": "code",
   "execution_count": null,
   "metadata": {
    "id": "SS_dyx4x_260"
   },
   "outputs": [],
   "source": [
    "# Separando os dados em folds\n",
    "kfold = KFold(n_splits = 30, shuffle=True, random_state = 5)"
   ]
  },
  {
   "cell_type": "code",
   "execution_count": null,
   "metadata": {
    "id": "K0aqT7kPAf1L"
   },
   "outputs": [],
   "source": [
    "# Criando o modelo\n",
    "modelo = GaussianNB()\n",
    "resultado = cross_val_score(modelo, previsores3_esc, alvo, cv = kfold)\n",
    "resultado"
   ]
  },
  {
   "cell_type": "code",
   "execution_count": null,
   "metadata": {
    "id": "VmmFUeXird9B"
   },
   "outputs": [],
   "source": [
    "# Usamos a média e o desvio padrão\n",
    "print(\"Acurácia Média: %.2f%%\" % (resultado.mean() * 100.0))"
   ]
  },
  {
   "cell_type": "markdown",
   "metadata": {
    "id": "tZ03xoOQNkQP"
   },
   "source": [
    "Naive Bayes = 84,78% (treino e teste) - 234 acertos e 85,17% (validação cruzada) - previsores3_esc\n",
    "\n",
    "\n",
    "\n"
   ]
  },
  {
   "cell_type": "markdown",
   "metadata": {
    "id": "n1ky9LQipNn0"
   },
   "source": [
    "# **MÁQUINAS DE VETORES DE SUPORTE (SVM)**"
   ]
  },
  {
   "cell_type": "markdown",
   "metadata": {
    "id": "5p55FhL3b52u"
   },
   "source": [
    "https://scikit-learn.org/stable/modules/generated/sklearn.svm.SVC.html"
   ]
  },
  {
   "cell_type": "code",
   "execution_count": null,
   "metadata": {
    "id": "oVy0EpUfpquK"
   },
   "outputs": [],
   "source": [
    "from sklearn.svm import SVC"
   ]
  },
  {
   "cell_type": "code",
   "execution_count": null,
   "metadata": {
    "id": "P7xKKTCabAab"
   },
   "outputs": [],
   "source": [
    "svm = SVC(kernel='rbf', random_state=1, C = 2)\n",
    "svm.fit(x_treino, y_treino)"
   ]
  },
  {
   "cell_type": "code",
   "execution_count": null,
   "metadata": {
    "id": "VjKeaHKrbicN"
   },
   "outputs": [],
   "source": [
    "previsoes_svm = svm.predict(x_teste)\n",
    "previsoes_svm"
   ]
  },
  {
   "cell_type": "code",
   "execution_count": null,
   "metadata": {
    "id": "ulL7w207qcwQ"
   },
   "outputs": [],
   "source": [
    "y_teste"
   ]
  },
  {
   "cell_type": "code",
   "execution_count": null,
   "metadata": {
    "id": "iWdYWQQBvnVQ"
   },
   "outputs": [],
   "source": [
    "from sklearn.metrics import accuracy_score, confusion_matrix, classification_report"
   ]
  },
  {
   "cell_type": "code",
   "execution_count": null,
   "metadata": {
    "id": "kRZ4VwD-qjW4"
   },
   "outputs": [],
   "source": [
    "print(\"Acurácia: %.2f%%\" % (accuracy_score(y_teste, previsoes_svm) * 100.0))"
   ]
  },
  {
   "cell_type": "code",
   "execution_count": null,
   "metadata": {
    "id": "VYeZMXUtqjW5"
   },
   "outputs": [],
   "source": [
    "confusion_matrix(y_teste, previsoes_svm)"
   ]
  },
  {
   "cell_type": "code",
   "execution_count": null,
   "metadata": {
    "id": "YPKWlAGAqjW6"
   },
   "outputs": [],
   "source": [
    "print(classification_report(y_teste, previsoes_svm))"
   ]
  },
  {
   "cell_type": "markdown",
   "metadata": {
    "id": "GeeUpamU1u6d"
   },
   "source": [
    "**Análise dados de treino**"
   ]
  },
  {
   "cell_type": "code",
   "execution_count": null,
   "metadata": {
    "id": "VVGJEYpC1u6d"
   },
   "outputs": [],
   "source": [
    "previsoes_treino = svm.predict(x_treino)\n",
    "previsoes_treino"
   ]
  },
  {
   "cell_type": "code",
   "execution_count": null,
   "metadata": {
    "id": "Xo-iYrMn1u6d"
   },
   "outputs": [],
   "source": [
    "accuracy_score(y_treino, previsoes_treino)"
   ]
  },
  {
   "cell_type": "code",
   "execution_count": null,
   "metadata": {
    "id": "Z42CYXuC1u6e"
   },
   "outputs": [],
   "source": [
    "confusion_matrix(y_treino, previsoes_treino)"
   ]
  },
  {
   "cell_type": "markdown",
   "metadata": {
    "id": "xXM2zqKVH1Vi"
   },
   "source": [
    "### **Validação Cruzada**"
   ]
  },
  {
   "cell_type": "code",
   "execution_count": null,
   "metadata": {
    "id": "tukeEaG8H1Vj"
   },
   "outputs": [],
   "source": [
    "from sklearn.model_selection import KFold\n",
    "from sklearn.model_selection import cross_val_score"
   ]
  },
  {
   "cell_type": "code",
   "execution_count": null,
   "metadata": {
    "id": "4tYyKK_RH1Vj"
   },
   "outputs": [],
   "source": [
    "# Separando os dados em folds\n",
    "kfold = KFold(n_splits = 30, shuffle=True, random_state = 5)"
   ]
  },
  {
   "cell_type": "code",
   "execution_count": null,
   "metadata": {
    "id": "mhD3BcOWH1Vk"
   },
   "outputs": [],
   "source": [
    "# Criando o modelo\n",
    "modelo = SVC(kernel='rbf', random_state=1, C = 2)\n",
    "resultado = cross_val_score(modelo, previsores3_esc, alvo, cv = kfold)\n",
    "\n",
    "# Usamos a média e o desvio padrão\n",
    "print(\"Acurácia Média: %.2f%%\" % (resultado.mean() * 100.0))"
   ]
  },
  {
   "cell_type": "markdown",
   "metadata": {
    "id": "fT_1y1Hoqycp"
   },
   "source": [
    "Naive Bayes = 84,78% (treino e teste) - 234 acertos e 85,17% (validação cruzada) : previsores3_esc\n",
    "\n",
    "SVM = 86,23% - 238 acertos e 85,72% (validação cruzada) : previsores3-esc - SVC(kernel='rbf', random_state=1, C = 2)\n",
    "\n"
   ]
  },
  {
   "cell_type": "markdown",
   "metadata": {
    "id": "jebC8M2jqyc9"
   },
   "source": [
    "# **REGRESSÃO LOGÍSTICA**"
   ]
  },
  {
   "cell_type": "markdown",
   "metadata": {
    "id": "mprvbtyNbzP3"
   },
   "source": [
    "https://scikit-learn.org/stable/modules/generated/sklearn.linear_model.LogisticRegression.html"
   ]
  },
  {
   "cell_type": "code",
   "execution_count": null,
   "metadata": {
    "id": "NVGe2Q7ur-Nv"
   },
   "outputs": [],
   "source": [
    "from sklearn.linear_model import LogisticRegression"
   ]
  },
  {
   "cell_type": "code",
   "execution_count": null,
   "metadata": {
    "colab": {
     "base_uri": "https://localhost:8080/"
    },
    "executionInfo": {
     "elapsed": 628,
     "status": "ok",
     "timestamp": 1662236062154,
     "user": {
      "displayName": "Luciano Galdino",
      "userId": "10237697037323960148"
     },
     "user_tz": 180
    },
    "id": "f_RnL43VV9Yc",
    "outputId": "fa9c3dd0-287f-4215-e243-4edd631f26be"
   },
   "outputs": [],
   "source": [
    "logistica = LogisticRegression(random_state=1, max_iter=500, penalty=\"l2\",\n",
    "                               tol=0.0001, C=1,solver=\"lbfgs\")\n",
    "logistica.fit(x_treino, y_treino)"
   ]
  },
  {
   "cell_type": "code",
   "execution_count": null,
   "metadata": {
    "colab": {
     "base_uri": "https://localhost:8080/"
    },
    "executionInfo": {
     "elapsed": 282,
     "status": "ok",
     "timestamp": 1662236065181,
     "user": {
      "displayName": "Luciano Galdino",
      "userId": "10237697037323960148"
     },
     "user_tz": 180
    },
    "id": "I7EqQihmWIQG",
    "outputId": "0c1c9d48-f56f-4f9a-e99e-3c3dcf2e6601"
   },
   "outputs": [],
   "source": [
    "logistica.intercept_"
   ]
  },
  {
   "cell_type": "code",
   "execution_count": null,
   "metadata": {
    "colab": {
     "base_uri": "https://localhost:8080/"
    },
    "executionInfo": {
     "elapsed": 309,
     "status": "ok",
     "timestamp": 1662236068979,
     "user": {
      "displayName": "Luciano Galdino",
      "userId": "10237697037323960148"
     },
     "user_tz": 180
    },
    "id": "6BS-aVjsWK_0",
    "outputId": "f042aa40-fffb-4bca-9062-68bb65885075"
   },
   "outputs": [],
   "source": [
    "logistica.coef_"
   ]
  },
  {
   "cell_type": "code",
   "execution_count": null,
   "metadata": {
    "colab": {
     "base_uri": "https://localhost:8080/"
    },
    "executionInfo": {
     "elapsed": 307,
     "status": "ok",
     "timestamp": 1662236071968,
     "user": {
      "displayName": "Luciano Galdino",
      "userId": "10237697037323960148"
     },
     "user_tz": 180
    },
    "id": "zKlba1wBWX1O",
    "outputId": "49cf910a-1502-48ed-9eed-8a9c6351ff73"
   },
   "outputs": [],
   "source": [
    "previsoes_logistica = logistica.predict(x_teste)\n",
    "previsoes_logistica"
   ]
  },
  {
   "cell_type": "code",
   "execution_count": null,
   "metadata": {
    "id": "PbF05awQvhzK"
   },
   "outputs": [],
   "source": [
    "from sklearn.metrics import accuracy_score, confusion_matrix, classification_report"
   ]
  },
  {
   "cell_type": "code",
   "execution_count": null,
   "metadata": {
    "colab": {
     "base_uri": "https://localhost:8080/"
    },
    "executionInfo": {
     "elapsed": 232,
     "status": "ok",
     "timestamp": 1656717163654,
     "user": {
      "displayName": "Luciano Galdino",
      "userId": "10237697037323960148"
     },
     "user_tz": 180
    },
    "id": "72UCRQBdt2Iy",
    "outputId": "e955d976-1e4a-435d-ba53-44326b5f3bb9"
   },
   "outputs": [],
   "source": [
    "print(\"Acurácia: %.2f%%\" % (accuracy_score(y_teste, previsoes_logistica) * 100.0))"
   ]
  },
  {
   "cell_type": "code",
   "execution_count": null,
   "metadata": {
    "colab": {
     "base_uri": "https://localhost:8080/"
    },
    "executionInfo": {
     "elapsed": 241,
     "status": "ok",
     "timestamp": 1656717166777,
     "user": {
      "displayName": "Luciano Galdino",
      "userId": "10237697037323960148"
     },
     "user_tz": 180
    },
    "id": "g2FaBeYDt2Iz",
    "outputId": "26ab729b-750f-438a-abaa-af0989542dd3"
   },
   "outputs": [],
   "source": [
    "confusion_matrix(y_teste, previsoes_logistica)"
   ]
  },
  {
   "cell_type": "code",
   "execution_count": null,
   "metadata": {
    "colab": {
     "base_uri": "https://localhost:8080/"
    },
    "executionInfo": {
     "elapsed": 281,
     "status": "ok",
     "timestamp": 1656717169268,
     "user": {
      "displayName": "Luciano Galdino",
      "userId": "10237697037323960148"
     },
     "user_tz": 180
    },
    "id": "MAgJo5b5t2I0",
    "outputId": "9dc145c3-278a-4809-d694-cb3761225c9b"
   },
   "outputs": [],
   "source": [
    "print(classification_report(y_teste, previsoes_logistica))"
   ]
  },
  {
   "cell_type": "markdown",
   "metadata": {
    "id": "6LpYZvhb17ms"
   },
   "source": [
    "**Análise dados de treino**"
   ]
  },
  {
   "cell_type": "code",
   "execution_count": null,
   "metadata": {
    "colab": {
     "base_uri": "https://localhost:8080/"
    },
    "executionInfo": {
     "elapsed": 289,
     "status": "ok",
     "timestamp": 1656717184635,
     "user": {
      "displayName": "Luciano Galdino",
      "userId": "10237697037323960148"
     },
     "user_tz": 180
    },
    "id": "9Mup9Cn817mt",
    "outputId": "12e3cba9-9e60-46dd-a0f9-1db06b958b6b"
   },
   "outputs": [],
   "source": [
    "previsoes_treino = logistica.predict(x_treino)\n",
    "previsoes_treino"
   ]
  },
  {
   "cell_type": "code",
   "execution_count": null,
   "metadata": {
    "colab": {
     "base_uri": "https://localhost:8080/"
    },
    "executionInfo": {
     "elapsed": 6,
     "status": "ok",
     "timestamp": 1656717189834,
     "user": {
      "displayName": "Luciano Galdino",
      "userId": "10237697037323960148"
     },
     "user_tz": 180
    },
    "id": "T4imJ5_w17mt",
    "outputId": "747b9401-f58f-4d55-a62d-23b7c1a0e30d"
   },
   "outputs": [],
   "source": [
    "accuracy_score(y_treino, previsoes_treino)"
   ]
  },
  {
   "cell_type": "code",
   "execution_count": null,
   "metadata": {
    "colab": {
     "base_uri": "https://localhost:8080/"
    },
    "executionInfo": {
     "elapsed": 249,
     "status": "ok",
     "timestamp": 1656717191756,
     "user": {
      "displayName": "Luciano Galdino",
      "userId": "10237697037323960148"
     },
     "user_tz": 180
    },
    "id": "2Ms9dnHk17mu",
    "outputId": "372457f9-74dd-4ab4-f8aa-3bce4f8a7e33"
   },
   "outputs": [],
   "source": [
    "confusion_matrix(y_treino, previsoes_treino)"
   ]
  },
  {
   "cell_type": "markdown",
   "metadata": {
    "id": "rGdamAVpJfJ5"
   },
   "source": [
    "### **Validação Cruzada**"
   ]
  },
  {
   "cell_type": "code",
   "execution_count": null,
   "metadata": {
    "id": "IcNfFmq9JfJ6"
   },
   "outputs": [],
   "source": [
    "from sklearn.model_selection import KFold\n",
    "from sklearn.model_selection import cross_val_score"
   ]
  },
  {
   "cell_type": "code",
   "execution_count": null,
   "metadata": {
    "id": "srKfNrUoJfJ6"
   },
   "outputs": [],
   "source": [
    "# Separando os dados em folds\n",
    "kfold = KFold(n_splits = 30, shuffle=True, random_state = 5)"
   ]
  },
  {
   "cell_type": "code",
   "execution_count": null,
   "metadata": {
    "colab": {
     "base_uri": "https://localhost:8080/"
    },
    "executionInfo": {
     "elapsed": 1730,
     "status": "ok",
     "timestamp": 1656717612565,
     "user": {
      "displayName": "Luciano Galdino",
      "userId": "10237697037323960148"
     },
     "user_tz": 180
    },
    "id": "eHZjsD-RJfJ7",
    "outputId": "0781aa6d-9de4-44ea-b396-cababc31be7a"
   },
   "outputs": [],
   "source": [
    "# Criando o modelo\n",
    "modelo = LogisticRegression(random_state=1, max_iter=600, penalty=\"l2\",\n",
    "                               tol=0.0001, C=1,solver=\"lbfgs\")\n",
    "resultado = cross_val_score(modelo, previsores3_esc, alvo, cv = kfold)\n",
    "\n",
    "# Usamos a média e o desvio padrão\n",
    "print(\"Acurácia Média: %.2f%%\" % (resultado.mean() * 100.0))"
   ]
  },
  {
   "cell_type": "markdown",
   "metadata": {
    "id": "KmKIO-uUv31v"
   },
   "source": [
    "Naive Bayes = 84,78% (treino e teste) - 234 acertos e 85,17% (validação cruzada) : previsores3_esc\n",
    "\n",
    "SVM = 86,23% - 238 acertos e 85,72% (validação cruzada) : previsores3-esc - SVC(kernel='rbf', random_state=1, C = 2)\n",
    "\n",
    "Regressão logística = 86,23% - 238 acertos e 85,83% (validação cruzada) : previsores3_esc - LogisticRegression(random_state=1, max_iter=600, penalty=\"l2\", tol=0.0001, C=1,solver=\"lbfgs\")"
   ]
  },
  {
   "cell_type": "markdown",
   "metadata": {
    "id": "GETCbQj7v32B"
   },
   "source": [
    "# **APRENDIZAGEM BASEADA EM INSTÂNCIAS (KNN)**"
   ]
  },
  {
   "cell_type": "markdown",
   "metadata": {
    "id": "AXOVpUsGbnlK"
   },
   "source": [
    "https://scikit-learn.org/stable/modules/generated/sklearn.neighbors.KNeighborsClassifier.html"
   ]
  },
  {
   "cell_type": "code",
   "execution_count": null,
   "metadata": {
    "id": "u3_VSVAFwo8H"
   },
   "outputs": [],
   "source": [
    "from sklearn.neighbors import KNeighborsClassifier"
   ]
  },
  {
   "cell_type": "code",
   "execution_count": null,
   "metadata": {
    "id": "xkC1VdFmXvcz"
   },
   "outputs": [],
   "source": [
    "knn = KNeighborsClassifier(n_neighbors=7, metric='minkowski', p=1)\n",
    "knn.fit(x_treino, y_treino)"
   ]
  },
  {
   "cell_type": "markdown",
   "metadata": {
    "id": "CJB-tW-g2P4_"
   },
   "source": [
    "https://scikit-learn.org/stable/modules/generated/sklearn.metrics.DistanceMetric.html"
   ]
  },
  {
   "cell_type": "code",
   "execution_count": null,
   "metadata": {
    "id": "sSCtq6WKYlFx"
   },
   "outputs": [],
   "source": [
    "previsoes_knn = knn.predict(x_teste)\n",
    "previsoes_knn"
   ]
  },
  {
   "cell_type": "code",
   "execution_count": null,
   "metadata": {
    "id": "oG0I-trLxQ50"
   },
   "outputs": [],
   "source": [
    "y_teste"
   ]
  },
  {
   "cell_type": "code",
   "execution_count": null,
   "metadata": {
    "id": "aQYth6LjxOSG"
   },
   "outputs": [],
   "source": [
    "from sklearn.metrics import accuracy_score, confusion_matrix, classification_report"
   ]
  },
  {
   "cell_type": "code",
   "execution_count": null,
   "metadata": {
    "id": "OWDZlThoxOSI"
   },
   "outputs": [],
   "source": [
    "print(\"Acurácia: %.2f%%\" % (accuracy_score(y_teste, previsoes_knn) * 100.0))"
   ]
  },
  {
   "cell_type": "code",
   "execution_count": null,
   "metadata": {
    "id": "-IGoTCdmxOSJ"
   },
   "outputs": [],
   "source": [
    "confusion_matrix(y_teste, previsoes_knn)"
   ]
  },
  {
   "cell_type": "code",
   "execution_count": null,
   "metadata": {
    "id": "5V-bhRMvxOSJ"
   },
   "outputs": [],
   "source": [
    "print(classification_report(y_teste, previsoes_knn))"
   ]
  },
  {
   "cell_type": "markdown",
   "metadata": {
    "id": "qEF7YW-Y2KT9"
   },
   "source": [
    "**Análise dados de treino**"
   ]
  },
  {
   "cell_type": "code",
   "execution_count": null,
   "metadata": {
    "id": "gmZgnjMe2KT-"
   },
   "outputs": [],
   "source": [
    "previsoes_treino = knn.predict(x_treino)\n",
    "previsoes_treino"
   ]
  },
  {
   "cell_type": "code",
   "execution_count": null,
   "metadata": {
    "id": "q5pLRV6J2KT_"
   },
   "outputs": [],
   "source": [
    "accuracy_score(y_treino, previsoes_treino)"
   ]
  },
  {
   "cell_type": "code",
   "execution_count": null,
   "metadata": {
    "id": "w4ce2FGJ2KT_"
   },
   "outputs": [],
   "source": [
    "confusion_matrix(y_treino, previsoes_treino)"
   ]
  },
  {
   "cell_type": "markdown",
   "metadata": {
    "id": "pUNWBzC8KJ5v"
   },
   "source": [
    "### **Validação Cruzada**"
   ]
  },
  {
   "cell_type": "code",
   "execution_count": null,
   "metadata": {
    "id": "b88vNYd8KJ5w"
   },
   "outputs": [],
   "source": [
    "from sklearn.model_selection import KFold\n",
    "from sklearn.model_selection import cross_val_score"
   ]
  },
  {
   "cell_type": "code",
   "execution_count": null,
   "metadata": {
    "id": "nG58w5CNKJ5w"
   },
   "outputs": [],
   "source": [
    "# Separando os dados em folds\n",
    "kfold = KFold(n_splits = 30, shuffle=True, random_state = 5)"
   ]
  },
  {
   "cell_type": "code",
   "execution_count": null,
   "metadata": {
    "id": "V9BM96VTKJ5w"
   },
   "outputs": [],
   "source": [
    "# Criando o modelo\n",
    "modelo = KNeighborsClassifier(n_neighbors=7, metric='minkowski', p = 1)\n",
    "resultado = cross_val_score(modelo, previsores3_esc, alvo, cv = kfold)\n",
    "\n",
    "# Usamos a média e o desvio padrão\n",
    "print(\"Acurácia Média: %.2f%%\" % (resultado.mean() * 100.0))"
   ]
  },
  {
   "cell_type": "markdown",
   "metadata": {
    "id": "ovmlWcN6xOSK"
   },
   "source": [
    "Naive Bayes = 84,78% (treino e teste) - 234 acertos e 85,17% (validação cruzada) : previsores3_esc\n",
    "\n",
    "SVM = 86,23% - 238 acertos e 85,72% (validação cruzada) : previsores3-esc - SVC(kernel='rbf', random_state=1, C = 2)\n",
    "\n",
    "Regressão logística = 86,23% - 238 acertos e 85,83% (validação cruzada) : previsores3_esc - LogisticRegression(random_state=1, max_iter=600, penalty=\"l2\", tol=0.0001, C=1,solver=\"lbfgs\")\n",
    "\n",
    "KNN = 84,06% - 232 acertos e 85,84% (validação cruzada) : previsores3_esc ou previsores_esc - KNeighborsClassifier(n_neighbors=7, metric='minkowski', p = 1)\n",
    "\n"
   ]
  },
  {
   "cell_type": "markdown",
   "metadata": {
    "id": "VdGvKcYjODGt"
   },
   "source": [
    "# **ÁRVORE DE DECISÃO**"
   ]
  },
  {
   "cell_type": "markdown",
   "metadata": {
    "id": "i65VtZ4pcQGP"
   },
   "source": [
    "https://scikit-learn.org/stable/modules/tree.html"
   ]
  },
  {
   "cell_type": "code",
   "execution_count": null,
   "metadata": {
    "id": "-2oaMph5OFa2"
   },
   "outputs": [],
   "source": [
    "from sklearn.tree import DecisionTreeClassifier"
   ]
  },
  {
   "cell_type": "code",
   "execution_count": null,
   "metadata": {
    "id": "Zxu4_zhCOMVj"
   },
   "outputs": [],
   "source": [
    "arvore = DecisionTreeClassifier(criterion='entropy', random_state = 0, max_depth=3)\n",
    "arvore.fit(x_treino, y_treino)"
   ]
  },
  {
   "cell_type": "code",
   "execution_count": null,
   "metadata": {
    "id": "UnxRfJZXOVkk"
   },
   "outputs": [],
   "source": [
    "previsoes_arvore = arvore.predict(x_teste)\n",
    "previsoes_arvore"
   ]
  },
  {
   "cell_type": "code",
   "execution_count": null,
   "metadata": {
    "id": "ozqiMkVAOke6"
   },
   "outputs": [],
   "source": [
    "y_teste"
   ]
  },
  {
   "cell_type": "code",
   "execution_count": null,
   "metadata": {
    "id": "fS4QmmG9vrl4"
   },
   "outputs": [],
   "source": [
    "from sklearn.metrics import accuracy_score, confusion_matrix, classification_report"
   ]
  },
  {
   "cell_type": "code",
   "execution_count": null,
   "metadata": {
    "id": "9vuYKW1_Onqq"
   },
   "outputs": [],
   "source": [
    "print(\"Acurácia: %.2f%%\" % (accuracy_score(y_teste, previsoes_arvore) * 100.0))"
   ]
  },
  {
   "cell_type": "code",
   "execution_count": null,
   "metadata": {
    "id": "IAJonpblPUGh"
   },
   "outputs": [],
   "source": [
    "confusion_matrix(y_teste, previsoes_arvore)"
   ]
  },
  {
   "cell_type": "code",
   "execution_count": null,
   "metadata": {
    "id": "wACzOEs-PcTo"
   },
   "outputs": [],
   "source": [
    "print(classification_report(y_teste, previsoes_arvore))"
   ]
  },
  {
   "cell_type": "markdown",
   "metadata": {
    "id": "PXa_22cA1DcE"
   },
   "source": [
    "**Análise dados de treino**"
   ]
  },
  {
   "cell_type": "code",
   "execution_count": null,
   "metadata": {
    "id": "UZFn-68G1DcF"
   },
   "outputs": [],
   "source": [
    "previsoes_treino = arvore.predict(x_treino)\n",
    "previsoes_treino"
   ]
  },
  {
   "cell_type": "code",
   "execution_count": null,
   "metadata": {
    "id": "mDqKNd3v1DcG"
   },
   "outputs": [],
   "source": [
    "accuracy_score(y_treino, previsoes_treino)"
   ]
  },
  {
   "cell_type": "code",
   "execution_count": null,
   "metadata": {
    "id": "dMQiq4o01DcG"
   },
   "outputs": [],
   "source": [
    "confusion_matrix(y_treino, previsoes_treino)"
   ]
  },
  {
   "cell_type": "markdown",
   "metadata": {
    "id": "dxwugdgiEhdw"
   },
   "source": [
    "### **Validação Cruzada**"
   ]
  },
  {
   "cell_type": "code",
   "execution_count": null,
   "metadata": {
    "id": "ArJOjabUEZJf"
   },
   "outputs": [],
   "source": [
    "from sklearn.model_selection import KFold\n",
    "from sklearn.model_selection import cross_val_score"
   ]
  },
  {
   "cell_type": "code",
   "execution_count": null,
   "metadata": {
    "id": "zfWK55DrEZJg"
   },
   "outputs": [],
   "source": [
    "# Separando os dados em folds\n",
    "kfold = KFold(n_splits = 30, shuffle=True, random_state = 5)"
   ]
  },
  {
   "cell_type": "code",
   "execution_count": null,
   "metadata": {
    "id": "MwGsKOFZEZJh"
   },
   "outputs": [],
   "source": [
    "# Criando o modelo\n",
    "modelo = DecisionTreeClassifier(criterion='entropy', random_state = 0, max_depth=3)\n",
    "resultado = cross_val_score(modelo, previsores3_esc, alvo, cv = kfold)\n",
    "\n",
    "# Usamos a média e o desvio padrão\n",
    "print(\"Acurácia Média: %.2f%%\" % (resultado.mean() * 100.0))"
   ]
  },
  {
   "cell_type": "markdown",
   "metadata": {
    "id": "-Ti98jalQK23"
   },
   "source": [
    "Naive Bayes = 84,78% (treino e teste) - 234 acertos e 85,17% (validação cruzada) : previsores3_esc\n",
    "\n",
    "SVM = 86,23% - 238 acertos e 85,72% (validação cruzada) : previsores3-esc - SVC(kernel='rbf', random_state=1, C = 2)\n",
    "\n",
    "Regressão logística = 86,23% - 238 acertos e 85,83% (validação cruzada) : previsores3_esc - LogisticRegression(random_state=1, max_iter=600, penalty=\"l2\", tol=0.0001, C=1,solver=\"lbfgs\")\n",
    "\n",
    "KNN = 84,06% - 232 acertos e 85,84% (validação cruzada) : previsores3_esc ou previsores_esc - KNeighborsClassifier(n_neighbors=7, metric='minkowski', p = 1)\n",
    "\n",
    "Árvore de decisão = 83,7% (treino e teste) - 231 acertos e 83,32% (validação cruzada): previsores3_esc - DecisionTreeClassifier(criterion='entropy', random_state = 0, max_depth=3)"
   ]
  },
  {
   "cell_type": "markdown",
   "metadata": {
    "id": "hw7px-UemoSc"
   },
   "source": [
    "# **RANDOM FOREST**"
   ]
  },
  {
   "cell_type": "markdown",
   "metadata": {
    "id": "HAUbw5xfcCYy"
   },
   "source": [
    "https://scikit-learn.org/stable/modules/generated/sklearn.ensemble.RandomForestClassifier.html"
   ]
  },
  {
   "cell_type": "code",
   "execution_count": null,
   "metadata": {
    "id": "BqqXdinImokj"
   },
   "outputs": [],
   "source": [
    "from sklearn.ensemble import RandomForestClassifier"
   ]
  },
  {
   "cell_type": "code",
   "execution_count": null,
   "metadata": {
    "id": "Klr3lymumztn"
   },
   "outputs": [],
   "source": [
    "random = RandomForestClassifier(n_estimators=150, criterion='entropy', random_state = 0, max_depth=4)\n",
    "random.fit(x_treino, y_treino)"
   ]
  },
  {
   "cell_type": "code",
   "execution_count": null,
   "metadata": {
    "id": "0JOqI4bQnY17"
   },
   "outputs": [],
   "source": [
    "previsoes_random = random.predict(x_teste)\n",
    "previsoes_random"
   ]
  },
  {
   "cell_type": "code",
   "execution_count": null,
   "metadata": {
    "id": "fRN6hPPXn5qp"
   },
   "outputs": [],
   "source": [
    "y_teste"
   ]
  },
  {
   "cell_type": "code",
   "execution_count": null,
   "metadata": {
    "id": "cgB44VIOvpZf"
   },
   "outputs": [],
   "source": [
    "from sklearn.metrics import accuracy_score, confusion_matrix, classification_report"
   ]
  },
  {
   "cell_type": "code",
   "execution_count": null,
   "metadata": {
    "id": "gnAuxYDDoDxM"
   },
   "outputs": [],
   "source": [
    "print(\"Acurácia: %.2f%%\" % (accuracy_score(y_teste, previsoes_random) * 100.0))"
   ]
  },
  {
   "cell_type": "code",
   "execution_count": null,
   "metadata": {
    "id": "zjAqh3e8oDxN"
   },
   "outputs": [],
   "source": [
    "confusion_matrix(y_teste, previsoes_random)"
   ]
  },
  {
   "cell_type": "code",
   "execution_count": null,
   "metadata": {
    "id": "IdpisYpjoDxO"
   },
   "outputs": [],
   "source": [
    "print(classification_report(y_teste, previsoes_random))"
   ]
  },
  {
   "cell_type": "markdown",
   "metadata": {
    "id": "e9NiPecr1bdw"
   },
   "source": [
    "**Análise dados de treino**"
   ]
  },
  {
   "cell_type": "code",
   "execution_count": null,
   "metadata": {
    "id": "DDs9J1hX1bdx"
   },
   "outputs": [],
   "source": [
    "previsoes_treino = random.predict(x_treino)\n",
    "previsoes_treino"
   ]
  },
  {
   "cell_type": "code",
   "execution_count": null,
   "metadata": {
    "id": "MkH9uYfz1bdy"
   },
   "outputs": [],
   "source": [
    "accuracy_score(y_treino, previsoes_treino)"
   ]
  },
  {
   "cell_type": "code",
   "execution_count": null,
   "metadata": {
    "id": "pLge3xVL1bdy"
   },
   "outputs": [],
   "source": [
    "confusion_matrix(y_treino, previsoes_treino)"
   ]
  },
  {
   "cell_type": "markdown",
   "metadata": {
    "id": "GH4nEvlaGOb7"
   },
   "source": [
    "### **Validação Cruzada**"
   ]
  },
  {
   "cell_type": "code",
   "execution_count": null,
   "metadata": {
    "id": "hreEC55-GOb8"
   },
   "outputs": [],
   "source": [
    "from sklearn.model_selection import KFold\n",
    "from sklearn.model_selection import cross_val_score"
   ]
  },
  {
   "cell_type": "code",
   "execution_count": null,
   "metadata": {
    "id": "ETYEB99OGOb9"
   },
   "outputs": [],
   "source": [
    "# Separando os dados em folds\n",
    "kfold = KFold(n_splits = 30, shuffle=True, random_state = 5)"
   ]
  },
  {
   "cell_type": "code",
   "execution_count": null,
   "metadata": {
    "id": "7GHcsag3GOb9"
   },
   "outputs": [],
   "source": [
    "# Criando o modelo\n",
    "modelo = RandomForestClassifier(n_estimators=150, criterion='entropy', random_state = 0, max_depth=4)\n",
    "resultado = cross_val_score(modelo, previsores, alvo, cv = kfold)\n",
    "\n",
    "# Usamos a média e o desvio padrão\n",
    "print(\"Acurácia Média: %.2f%%\" % (resultado.mean() * 100.0))"
   ]
  },
  {
   "cell_type": "markdown",
   "metadata": {
    "id": "N3dUl9DDpNnz"
   },
   "source": [
    "Naive Bayes = 84,78% (treino e teste) - 234 acertos e 85,17% (validação cruzada) : previsores3_esc\n",
    "\n",
    "SVM = 86,23% - 238 acertos e 85,72% (validação cruzada) : previsores3-esc - SVC(kernel='rbf', random_state=1, C = 2)\n",
    "\n",
    "Regressão logística = 86,23% - 238 acertos e 85,83% (validação cruzada) : previsores3_esc - LogisticRegression(random_state=1, max_iter=600, penalty=\"l2\", tol=0.0001, C=1,solver=\"lbfgs\")\n",
    "\n",
    "KNN = 84,06% - 232 acertos e 85,84% (validação cruzada) : previsores3_esc ou previsores_esc - KNeighborsClassifier(n_neighbors=7, metric='minkowski', p = 1)\n",
    "\n",
    "Árvore de decisão = 83,7% (treino e teste) - 231 acertos e 83,32% (validação cruzada): previsores3_esc - DecisionTreeClassifier(criterion='entropy', random_state = 0, max_depth=3)\n",
    "\n",
    "Random Forest = 86,59% - 239 acertos e 85,92% (validação cruzada) : previsores - RandomForestClassifier(n_estimators=150, criterion='entropy', random_state = 0, max_depth=4)"
   ]
  },
  {
   "cell_type": "markdown",
   "metadata": {
    "id": "jH3OocboSGXH"
   },
   "source": [
    "# **XGBOOST**"
   ]
  },
  {
   "cell_type": "markdown",
   "metadata": {
    "id": "OpLLJlcnbcsR"
   },
   "source": [
    "https://xgboost.readthedocs.io/en/stable/"
   ]
  },
  {
   "cell_type": "code",
   "execution_count": null,
   "metadata": {
    "id": "PKdcu1J2Qk0h"
   },
   "outputs": [],
   "source": [
    "from xgboost import XGBClassifier"
   ]
  },
  {
   "cell_type": "code",
   "execution_count": null,
   "metadata": {
    "id": "jyOMVARbQmLa"
   },
   "outputs": [],
   "source": [
    "xg = XGBClassifier(max_depth=2, learning_rate=0.05, n_estimators=250, objective='binary:logistic', random_state=3)\n",
    "xg.fit(x_treino,y_treino)"
   ]
  },
  {
   "cell_type": "code",
   "execution_count": null,
   "metadata": {
    "colab": {
     "base_uri": "https://localhost:8080/"
    },
    "executionInfo": {
     "elapsed": 423,
     "status": "ok",
     "timestamp": 1685828799536,
     "user": {
      "displayName": "Luciano Galdino",
      "userId": "10237697037323960148"
     },
     "user_tz": 180
    },
    "id": "QrR1ZLZVQ5K4",
    "outputId": "d2f031c1-2b36-4d0e-e8f0-b007aa75989c"
   },
   "outputs": [],
   "source": [
    "previsoes_xg = xg.predict(x_teste)\n",
    "previsoes_xg"
   ]
  },
  {
   "cell_type": "code",
   "execution_count": null,
   "metadata": {
    "id": "HSR36D1mRZpz"
   },
   "outputs": [],
   "source": [
    "from sklearn.metrics import accuracy_score, confusion_matrix, classification_report"
   ]
  },
  {
   "cell_type": "code",
   "execution_count": null,
   "metadata": {
    "colab": {
     "base_uri": "https://localhost:8080/"
    },
    "executionInfo": {
     "elapsed": 7,
     "status": "ok",
     "timestamp": 1685828799536,
     "user": {
      "displayName": "Luciano Galdino",
      "userId": "10237697037323960148"
     },
     "user_tz": 180
    },
    "id": "UxMj0PznRZp0",
    "outputId": "29589b95-e081-42dc-ec2a-f2edd2835aa3"
   },
   "outputs": [],
   "source": [
    "print(\"Acurácia: %.2f%%\" % (accuracy_score(y_teste, previsoes_xg) * 100.0))"
   ]
  },
  {
   "cell_type": "code",
   "execution_count": null,
   "metadata": {
    "colab": {
     "base_uri": "https://localhost:8080/"
    },
    "executionInfo": {
     "elapsed": 6,
     "status": "ok",
     "timestamp": 1685828799536,
     "user": {
      "displayName": "Luciano Galdino",
      "userId": "10237697037323960148"
     },
     "user_tz": 180
    },
    "id": "5PcyMmFqRZp1",
    "outputId": "52542755-f4f9-45e7-d093-ba5931c8f9dc"
   },
   "outputs": [],
   "source": [
    "confusion_matrix(y_teste, previsoes_xg)"
   ]
  },
  {
   "cell_type": "code",
   "execution_count": null,
   "metadata": {
    "colab": {
     "base_uri": "https://localhost:8080/"
    },
    "executionInfo": {
     "elapsed": 7,
     "status": "ok",
     "timestamp": 1685828799537,
     "user": {
      "displayName": "Luciano Galdino",
      "userId": "10237697037323960148"
     },
     "user_tz": 180
    },
    "id": "fBYjluOzRZp2",
    "outputId": "890bfdba-5e19-4fbf-d1c3-870de18c3891"
   },
   "outputs": [],
   "source": [
    "print(classification_report(y_teste, previsoes_xg))"
   ]
  },
  {
   "cell_type": "markdown",
   "metadata": {
    "id": "VLAUCC_t2dkX"
   },
   "source": [
    "**Análise dados de treino**"
   ]
  },
  {
   "cell_type": "code",
   "execution_count": null,
   "metadata": {
    "colab": {
     "base_uri": "https://localhost:8080/"
    },
    "executionInfo": {
     "elapsed": 6,
     "status": "ok",
     "timestamp": 1685828799537,
     "user": {
      "displayName": "Luciano Galdino",
      "userId": "10237697037323960148"
     },
     "user_tz": 180
    },
    "id": "K5oak1Jy2dkY",
    "outputId": "447747c1-1669-443e-e3be-1cb76e84ad71"
   },
   "outputs": [],
   "source": [
    "previsoes_treino = xg.predict(x_treino)\n",
    "previsoes_treino"
   ]
  },
  {
   "cell_type": "code",
   "execution_count": null,
   "metadata": {
    "colab": {
     "base_uri": "https://localhost:8080/"
    },
    "executionInfo": {
     "elapsed": 5,
     "status": "ok",
     "timestamp": 1685828799537,
     "user": {
      "displayName": "Luciano Galdino",
      "userId": "10237697037323960148"
     },
     "user_tz": 180
    },
    "id": "70k-raF62dkZ",
    "outputId": "c16f734b-4b7e-418f-a1bc-e90cb87e81f5"
   },
   "outputs": [],
   "source": [
    "accuracy_score(y_treino, previsoes_treino)"
   ]
  },
  {
   "cell_type": "code",
   "execution_count": null,
   "metadata": {
    "colab": {
     "base_uri": "https://localhost:8080/"
    },
    "executionInfo": {
     "elapsed": 5,
     "status": "ok",
     "timestamp": 1685828799537,
     "user": {
      "displayName": "Luciano Galdino",
      "userId": "10237697037323960148"
     },
     "user_tz": 180
    },
    "id": "Hy7uFw9E2dkZ",
    "outputId": "3cb4435f-8809-43c3-8af5-35ee4fc8623e"
   },
   "outputs": [],
   "source": [
    "confusion_matrix(y_treino, previsoes_treino)"
   ]
  },
  {
   "cell_type": "markdown",
   "metadata": {
    "id": "gHvG_uWZLARo"
   },
   "source": [
    "### **Validação Cruzada**"
   ]
  },
  {
   "cell_type": "code",
   "execution_count": null,
   "metadata": {
    "id": "l3RZmFL_LARp"
   },
   "outputs": [],
   "source": [
    "from sklearn.model_selection import KFold\n",
    "from sklearn.model_selection import cross_val_score"
   ]
  },
  {
   "cell_type": "code",
   "execution_count": null,
   "metadata": {
    "id": "BKmF7defLARq"
   },
   "outputs": [],
   "source": [
    "# Separando os dados em folds\n",
    "kfold = KFold(n_splits = 30, shuffle=True, random_state = 5)"
   ]
  },
  {
   "cell_type": "code",
   "execution_count": null,
   "metadata": {
    "colab": {
     "base_uri": "https://localhost:8080/"
    },
    "executionInfo": {
     "elapsed": 3594,
     "status": "ok",
     "timestamp": 1685830159736,
     "user": {
      "displayName": "Luciano Galdino",
      "userId": "10237697037323960148"
     },
     "user_tz": 180
    },
    "id": "1h7FUmsWLARr",
    "outputId": "c7f21814-3114-4724-f8e5-f7f4766440ae"
   },
   "outputs": [],
   "source": [
    "# Criando o modelo\n",
    "modelo = XGBClassifier(max_depth=2, learning_rate=0.05, n_estimators=250, objective='binary:logistic', random_state=3)\n",
    "resultado = cross_val_score(modelo, previsores2, alvo, cv = kfold)\n",
    "\n",
    "# Usamos a média e o desvio padrão\n",
    "print(\"Acurácia Média: %.2f%%\" % (resultado.mean() * 100.0))"
   ]
  },
  {
   "cell_type": "markdown",
   "metadata": {
    "id": "gkZCAe-OR3rW"
   },
   "source": [
    "Naive Bayes = 84,78% (treino e teste) - 234 acertos e 85,17% (validação cruzada) : previsores3_esc\n",
    "\n",
    "SVM = 86,23% - 238 acertos e 85,72% (validação cruzada) : previsores3-esc - SVC(kernel='rbf', random_state=1, C = 2)\n",
    "\n",
    "Regressão logística = 86,23% - 238 acertos e 85,83% (validação cruzada) : previsores3_esc - LogisticRegression(random_state=1, max_iter=600, penalty=\"l2\", tol=0.0001, C=1,solver=\"lbfgs\")\n",
    "\n",
    "KNN = 84,06% - 232 acertos e 85,84% (validação cruzada) : previsores3_esc ou previsores_esc - KNeighborsClassifier(n_neighbors=7, metric='minkowski', p = 1)\n",
    "\n",
    "Árvore de decisão = 83,7% (treino e teste) - 231 acertos e 83,32% (validação cruzada): previsores3_esc - DecisionTreeClassifier(criterion='entropy', random_state = 0, max_depth=3)\n",
    "\n",
    "Random Forest = 86,59% - 239 acertos e 85,92% (validação cruzada) : previsores - RandomForestClassifier(n_estimators=150, criterion='entropy', random_state = 0, max_depth=4)\n",
    "\n",
    "XGboost = 87,68% - 242 acertos e 87,13% (validação cruzada) : previsores - XGBClassifier(max_depth=2, learning_rate=0.05, n_estimators=250, objective='binary:logistic', random_state=3)"
   ]
  },
  {
   "cell_type": "markdown",
   "metadata": {
    "id": "sPZLUYzCqTWL"
   },
   "source": [
    "# **LIGHTGBM**"
   ]
  },
  {
   "cell_type": "markdown",
   "metadata": {
    "id": "LLop9X5OVOfc"
   },
   "source": [
    "https://lightgbm.readthedocs.io/en/latest/pythonapi/lightgbm.train.html"
   ]
  },
  {
   "cell_type": "code",
   "execution_count": null,
   "metadata": {
    "colab": {
     "base_uri": "https://localhost:8080/"
    },
    "executionInfo": {
     "elapsed": 4064,
     "status": "ok",
     "timestamp": 1662477561484,
     "user": {
      "displayName": "Luciano Galdino",
      "userId": "10237697037323960148"
     },
     "user_tz": 180
    },
    "id": "r2fYJevzt58X",
    "outputId": "fa65acd1-d56f-4c5e-9502-0394090b56a3"
   },
   "outputs": [],
   "source": [
    "# Instalação do Algoritmo\n",
    "!pip install lightgbm"
   ]
  },
  {
   "cell_type": "code",
   "execution_count": null,
   "metadata": {
    "id": "HyJzU46uq9mQ"
   },
   "outputs": [],
   "source": [
    "import lightgbm as lgb"
   ]
  },
  {
   "cell_type": "code",
   "execution_count": null,
   "metadata": {
    "id": "D7GfTX-TxWh2"
   },
   "outputs": [],
   "source": [
    "# Dataset para treino\n",
    "dataset = lgb.Dataset(x_treino,label=y_treino)"
   ]
  },
  {
   "cell_type": "markdown",
   "metadata": {
    "id": "9sYH7x7pjczh"
   },
   "source": [
    "**Hiperparâmetros**\n",
    "\n",
    "**Controle de ajuste**\n",
    "\n",
    "num_leaves : define o número de folhas a serem formadas em uma árvore. Não tem uma relação direta entre num_leaves e max_depth e, portanto, os dois não devem estar vinculados um ao outro.\n",
    "\n",
    "max_depth : especifica a profundidade máxima ou nível até o qual a árvore pode crescer.\n",
    "\n",
    "**Controle de velocidade**\n",
    "\n",
    "learning_rate: taxa de aprendizagem, determina o impacto de cada árvore no resultado final.\n",
    "\n",
    "max_bin : O valor menor de max_bin reduz muito tempo de procesamento, pois agrupa os valores do recurso em caixas discretas, o que é computacionalmente mais barato.\n",
    "\n",
    "**Controle de precisão**\n",
    "\n",
    "num_leaves : valor alto produz árvores mais profundas com maior precisão, mas leva ao overfitting.\n",
    "\n",
    "max_bin : valores altos tem efeito semelhante ao causado pelo aumento do valor de num_leaves e também torna mais lento o procedimento de treinamento."
   ]
  },
  {
   "cell_type": "code",
   "execution_count": null,
   "metadata": {
    "id": "eRYtywqRxnRM"
   },
   "outputs": [],
   "source": [
    "# Parâmetros\n",
    "parametros = {'num_leaves':250, # número de folhas\n",
    "              'objective':'binary', # classificação Binária\n",
    "              'max_depth':2,\n",
    "              'learning_rate':.05,\n",
    "              'max_bin':100}"
   ]
  },
  {
   "cell_type": "code",
   "execution_count": null,
   "metadata": {
    "id": "s-75IteevPFt"
   },
   "outputs": [],
   "source": [
    "lgbm=lgb.train(parametros,dataset,num_boost_round=200)"
   ]
  },
  {
   "cell_type": "code",
   "execution_count": null,
   "metadata": {
    "colab": {
     "base_uri": "https://localhost:8080/"
    },
    "executionInfo": {
     "elapsed": 256,
     "status": "ok",
     "timestamp": 1662477811733,
     "user": {
      "displayName": "Luciano Galdino",
      "userId": "10237697037323960148"
     },
     "user_tz": 180
    },
    "id": "w2eVSPh7XeQe",
    "outputId": "fbec8a9e-117f-4dd8-a52c-2b96d3faa34a"
   },
   "outputs": [],
   "source": [
    "# Marcação do tempo de execução\n",
    "from datetime import datetime\n",
    "inicio=datetime.now()\n",
    "lgbm=lgb.train(parametros,dataset)\n",
    "fim=datetime.now()\n",
    "\n",
    "tempo = fim - inicio\n",
    "tempo"
   ]
  },
  {
   "cell_type": "code",
   "execution_count": null,
   "metadata": {
    "colab": {
     "base_uri": "https://localhost:8080/"
    },
    "executionInfo": {
     "elapsed": 257,
     "status": "ok",
     "timestamp": 1662477814289,
     "user": {
      "displayName": "Luciano Galdino",
      "userId": "10237697037323960148"
     },
     "user_tz": 180
    },
    "id": "FbY1sQrzvPFv",
    "outputId": "e28c998b-6f00-49a1-b6fd-57310686c714"
   },
   "outputs": [],
   "source": [
    "previsoes_lgbm = lgbm.predict(x_teste)\n",
    "previsoes_lgbm"
   ]
  },
  {
   "cell_type": "code",
   "execution_count": null,
   "metadata": {
    "colab": {
     "base_uri": "https://localhost:8080/"
    },
    "executionInfo": {
     "elapsed": 259,
     "status": "ok",
     "timestamp": 1662477817927,
     "user": {
      "displayName": "Luciano Galdino",
      "userId": "10237697037323960148"
     },
     "user_tz": 180
    },
    "id": "eQ-eOobHzgdY",
    "outputId": "a47a2781-9979-47b2-ca6f-228d907cb1ba"
   },
   "outputs": [],
   "source": [
    "previsoes_lgbm.shape"
   ]
  },
  {
   "cell_type": "code",
   "execution_count": null,
   "metadata": {
    "id": "bCK5052RyreS"
   },
   "outputs": [],
   "source": [
    "# Quando for menor que 5 considera 0 e quando for maior ou igual a 5 considera 1\n",
    "for i in range(0, 276):\n",
    "    if previsoes_lgbm[i] >= .5:\n",
    "       previsoes_lgbm[i] = 1\n",
    "    else:\n",
    "       previsoes_lgbm[i] = 0"
   ]
  },
  {
   "cell_type": "code",
   "execution_count": null,
   "metadata": {
    "colab": {
     "base_uri": "https://localhost:8080/"
    },
    "executionInfo": {
     "elapsed": 351,
     "status": "ok",
     "timestamp": 1662477822908,
     "user": {
      "displayName": "Luciano Galdino",
      "userId": "10237697037323960148"
     },
     "user_tz": 180
    },
    "id": "X3kyhhXJzmtG",
    "outputId": "ddc6ac3d-8b08-41e4-9eab-ca9ebdc2bc93"
   },
   "outputs": [],
   "source": [
    "previsoes_lgbm"
   ]
  },
  {
   "cell_type": "code",
   "execution_count": null,
   "metadata": {
    "colab": {
     "base_uri": "https://localhost:8080/"
    },
    "executionInfo": {
     "elapsed": 246,
     "status": "ok",
     "timestamp": 1662477825619,
     "user": {
      "displayName": "Luciano Galdino",
      "userId": "10237697037323960148"
     },
     "user_tz": 180
    },
    "id": "wvItoNPgvPFw",
    "outputId": "cb607575-1c1d-45c4-b0da-55b064d7f9fc"
   },
   "outputs": [],
   "source": [
    "y_teste"
   ]
  },
  {
   "cell_type": "code",
   "execution_count": null,
   "metadata": {
    "id": "7zmmlXg00NgO"
   },
   "outputs": [],
   "source": [
    "from sklearn.metrics import accuracy_score, confusion_matrix, classification_report"
   ]
  },
  {
   "cell_type": "code",
   "execution_count": null,
   "metadata": {
    "colab": {
     "base_uri": "https://localhost:8080/"
    },
    "executionInfo": {
     "elapsed": 3,
     "status": "ok",
     "timestamp": 1662477828140,
     "user": {
      "displayName": "Luciano Galdino",
      "userId": "10237697037323960148"
     },
     "user_tz": 180
    },
    "id": "7jtEMCEd0NgP",
    "outputId": "cae83075-c073-43c9-aa66-4b0879352168"
   },
   "outputs": [],
   "source": [
    "print(\"Acurácia: %.2f%%\" % (accuracy_score(y_teste, previsoes_lgbm) * 100.0))"
   ]
  },
  {
   "cell_type": "code",
   "execution_count": null,
   "metadata": {
    "colab": {
     "base_uri": "https://localhost:8080/"
    },
    "executionInfo": {
     "elapsed": 261,
     "status": "ok",
     "timestamp": 1662477830165,
     "user": {
      "displayName": "Luciano Galdino",
      "userId": "10237697037323960148"
     },
     "user_tz": 180
    },
    "id": "Vi92nyDd0NgQ",
    "outputId": "6fef1a2f-ff41-4ded-b096-9ad29cc70b5f"
   },
   "outputs": [],
   "source": [
    "confusion_matrix(y_teste, previsoes_lgbm)"
   ]
  },
  {
   "cell_type": "markdown",
   "metadata": {
    "id": "u3pNMaVs0NgR"
   },
   "source": [
    "**Análise dados de treino**"
   ]
  },
  {
   "cell_type": "code",
   "execution_count": null,
   "metadata": {
    "id": "fS-C8nIw0NgR"
   },
   "outputs": [],
   "source": [
    "previsoes_treino = lgbm.predict(x_treino)\n",
    "previsoes_treino"
   ]
  },
  {
   "cell_type": "code",
   "execution_count": null,
   "metadata": {
    "id": "5ZTvZKs51umQ"
   },
   "outputs": [],
   "source": [
    "previsoes_treino.shape"
   ]
  },
  {
   "cell_type": "code",
   "execution_count": null,
   "metadata": {
    "id": "y_Xb-SEN1bNL"
   },
   "outputs": [],
   "source": [
    "# Quando for menor que 5 considera 0 e quando for maior ou igual a 5 considera 1\n",
    "for i in range(0, 641):\n",
    "    if previsoes_treino[i] >= .5:\n",
    "       previsoes_treino[i] = 1\n",
    "    else:\n",
    "       previsoes_treino[i] = 0"
   ]
  },
  {
   "cell_type": "code",
   "execution_count": null,
   "metadata": {
    "id": "ENkdM8Jd1oCJ"
   },
   "outputs": [],
   "source": [
    "previsoes_treino"
   ]
  },
  {
   "cell_type": "code",
   "execution_count": null,
   "metadata": {
    "id": "NKAIaTGF0NgS"
   },
   "outputs": [],
   "source": [
    "accuracy_score(y_treino, previsoes_treino)"
   ]
  },
  {
   "cell_type": "code",
   "execution_count": null,
   "metadata": {
    "id": "dDOEsI4W0NgT"
   },
   "outputs": [],
   "source": [
    "confusion_matrix(y_treino, previsoes_treino)"
   ]
  },
  {
   "cell_type": "markdown",
   "metadata": {
    "id": "3hEGp61Q0NgT"
   },
   "source": [
    "### **Validação Cruzada**"
   ]
  },
  {
   "cell_type": "code",
   "execution_count": null,
   "metadata": {
    "id": "RwR3Salk0NgT"
   },
   "outputs": [],
   "source": [
    "from sklearn.model_selection import KFold\n",
    "from sklearn.model_selection import cross_val_score"
   ]
  },
  {
   "cell_type": "code",
   "execution_count": null,
   "metadata": {
    "id": "8Xnl-F4XSNTJ"
   },
   "outputs": [],
   "source": [
    "# Separando os dados em folds\n",
    "kfold = KFold(n_splits = 30, shuffle=True, random_state = 5)"
   ]
  },
  {
   "cell_type": "code",
   "execution_count": null,
   "metadata": {
    "id": "Qq7iUdMxSNTL"
   },
   "outputs": [],
   "source": [
    "# Criando o modelo\n",
    "modelo = lgb.LGBMClassifier(num_leaves = 250, objective = 'binary',\n",
    "                            max_depth = 2, learning_rate = .05, max_bin =100)\n",
    "resultado = cross_val_score(modelo, previsores, alvo, cv = kfold)\n",
    "\n",
    "# Usamos a média e o desvio padrão\n",
    "print(\"Acurácia Média: %.2f%%\" % (resultado.mean() * 100.0))"
   ]
  },
  {
   "cell_type": "markdown",
   "metadata": {
    "id": "W6ADUoMW0NgV"
   },
   "source": [
    "Naive Bayes = 84,78% (treino e teste) - 234 acertos e 85,17% (validação cruzada) : previsores3_esc\n",
    "\n",
    "SVM = 86,23% - 238 acertos e 85,72% (validação cruzada) : previsores3-esc - SVC(kernel='rbf', random_state=1, C = 2)\n",
    "\n",
    "Regressão logística = 86,23% - 238 acertos e 85,83% (validação cruzada) : previsores3_esc - LogisticRegression(random_state=1, max_iter=600, penalty=\"l2\", tol=0.0001, C=1,solver=\"lbfgs\")\n",
    "\n",
    "KNN = 84,06% - 232 acertos e 85,84% (validação cruzada) : previsores3_esc ou previsores_esc - KNeighborsClassifier(n_neighbors=7, metric='minkowski', p = 1)\n",
    "\n",
    "Árvore de decisão = 83,7% (treino e teste) - 231 acertos e 83,32% (validação cruzada): previsores3_esc - DecisionTreeClassifier(criterion='entropy', random_state = 0, max_depth=3)\n",
    "\n",
    "Random Forest = 86,59% - 239 acertos e 85,92% (validação cruzada) : previsores - RandomForestClassifier(n_estimators=150, criterion='entropy', random_state = 0, max_depth=4)\n",
    "\n",
    "XGboost = 87,68% - 242 acertos e 87,13% (validação cruzada) : previsores - XGBClassifier(max_depth=2, learning_rate=0.05, n_estimators=250, objective='binary:logistic', random_state=3)\n",
    "\n",
    "LightGBM = 86,23% (treino e teste)- 238 acertos e 85,93% (validação cruzada) : previsores - lgb.LGBMClassifier(num_leaves = 250, objective = 'binary',  max_depth = 2, learning_rate = .05, max_bin =100)"
   ]
  },
  {
   "cell_type": "markdown",
   "metadata": {
    "id": "yKpYGEuWUChU"
   },
   "source": [
    "# **CATBOOST**"
   ]
  },
  {
   "cell_type": "markdown",
   "metadata": {
    "id": "LMqQ_NMTUChV"
   },
   "source": [
    "https://catboost.ai/en/docs/"
   ]
  },
  {
   "cell_type": "code",
   "execution_count": null,
   "metadata": {
    "id": "Vkt7hfJVUChV"
   },
   "outputs": [],
   "source": [
    "#Instalação\n",
    "!pip install catboost"
   ]
  },
  {
   "cell_type": "code",
   "execution_count": null,
   "metadata": {
    "id": "kisDuh-RUChW"
   },
   "outputs": [],
   "source": [
    "from catboost import CatBoostClassifier"
   ]
  },
  {
   "cell_type": "code",
   "execution_count": null,
   "metadata": {
    "id": "fochAJydUChX"
   },
   "outputs": [],
   "source": [
    "df"
   ]
  },
  {
   "cell_type": "code",
   "execution_count": null,
   "metadata": {
    "id": "mFw4wb_2CZWv"
   },
   "outputs": [],
   "source": [
    "previsores4 = df.iloc[:, 0:11]"
   ]
  },
  {
   "cell_type": "code",
   "execution_count": null,
   "metadata": {
    "id": "6EGMtQa9Dwf7"
   },
   "outputs": [],
   "source": [
    "previsores4.head()"
   ]
  },
  {
   "cell_type": "code",
   "execution_count": null,
   "metadata": {
    "id": "G0qli4gSEBbM"
   },
   "outputs": [],
   "source": [
    "alvo4 = df.iloc[:, 11]"
   ]
  },
  {
   "cell_type": "code",
   "execution_count": null,
   "metadata": {
    "id": "hAcS1ULCC78V"
   },
   "outputs": [],
   "source": [
    "from sklearn.model_selection import train_test_split"
   ]
  },
  {
   "cell_type": "code",
   "execution_count": null,
   "metadata": {
    "id": "OP69_qpGC78W"
   },
   "outputs": [],
   "source": [
    "x_treino, x_teste, y_treino, y_teste = train_test_split(previsores4, alvo4, test_size = 0.3, random_state = 0)"
   ]
  },
  {
   "cell_type": "code",
   "execution_count": null,
   "metadata": {
    "id": "B9Gb_1r2UChX"
   },
   "outputs": [],
   "source": [
    "categoricas = ['Sex','ChestPainType', 'RestingECG', 'ExerciseAngina', 'ST_Slope']"
   ]
  },
  {
   "cell_type": "code",
   "execution_count": null,
   "metadata": {
    "id": "kM7Xaph4UChY"
   },
   "outputs": [],
   "source": [
    "catboost = CatBoostClassifier(task_type='CPU', iterations=100, learning_rate=0.1, depth = 8, random_state = 5,\n",
    "                              eval_metric=\"Accuracy\")"
   ]
  },
  {
   "cell_type": "code",
   "execution_count": null,
   "metadata": {
    "id": "frZ9Fw1EUChY"
   },
   "outputs": [],
   "source": [
    "catboost.fit( x_treino, y_treino, cat_features= categoricas, plot=True, eval_set=(x_teste, y_teste))"
   ]
  },
  {
   "cell_type": "code",
   "execution_count": null,
   "metadata": {
    "id": "MIJVraLTUChZ"
   },
   "outputs": [],
   "source": [
    "previsoes_cat = catboost.predict(x_teste)\n",
    "previsoes_cat"
   ]
  },
  {
   "cell_type": "code",
   "execution_count": null,
   "metadata": {
    "id": "dSrjeuL_UCha"
   },
   "outputs": [],
   "source": [
    "y_teste"
   ]
  },
  {
   "cell_type": "code",
   "execution_count": null,
   "metadata": {
    "id": "r6FeKp07UCha"
   },
   "outputs": [],
   "source": [
    "from sklearn.metrics import accuracy_score, confusion_matrix, classification_report"
   ]
  },
  {
   "cell_type": "code",
   "execution_count": null,
   "metadata": {
    "id": "rknZXiSyUChb"
   },
   "outputs": [],
   "source": [
    "print(\"Acurácia: %.2f%%\" % (accuracy_score(y_teste, previsoes_cat) * 100.0))"
   ]
  },
  {
   "cell_type": "code",
   "execution_count": null,
   "metadata": {
    "id": "coB92zR9UChb"
   },
   "outputs": [],
   "source": [
    "confusion_matrix(y_teste, previsoes_cat)"
   ]
  },
  {
   "cell_type": "markdown",
   "metadata": {
    "id": "IA02yBduUChc"
   },
   "source": [
    "**Análise dados de treino**"
   ]
  },
  {
   "cell_type": "code",
   "execution_count": null,
   "metadata": {
    "id": "pu0f-5frUChc"
   },
   "outputs": [],
   "source": [
    "previsoes_treino = catboost.predict(x_treino)\n",
    "previsoes_treino"
   ]
  },
  {
   "cell_type": "code",
   "execution_count": null,
   "metadata": {
    "id": "agSmZWOEUChc"
   },
   "outputs": [],
   "source": [
    "accuracy_score(y_treino, previsoes_treino)"
   ]
  },
  {
   "cell_type": "code",
   "execution_count": null,
   "metadata": {
    "id": "Oh06bx0IUChd"
   },
   "outputs": [],
   "source": [
    "confusion_matrix(y_treino, previsoes_treino)"
   ]
  },
  {
   "cell_type": "markdown",
   "metadata": {
    "id": "2LgdzmpMUChd"
   },
   "source": [
    "### **Validação Cruzada**"
   ]
  },
  {
   "cell_type": "code",
   "execution_count": null,
   "metadata": {
    "id": "N80OsHhNUChd"
   },
   "outputs": [],
   "source": [
    "from sklearn.model_selection import KFold\n",
    "from sklearn.model_selection import cross_val_score"
   ]
  },
  {
   "cell_type": "code",
   "execution_count": null,
   "metadata": {
    "id": "vkhW9kFUUChd"
   },
   "outputs": [],
   "source": [
    "# Separando os dados em folds\n",
    "kfold = KFold(n_splits = 30, shuffle=True, random_state = 5)"
   ]
  },
  {
   "cell_type": "code",
   "execution_count": null,
   "metadata": {
    "id": "lwgfw-cVUChd"
   },
   "outputs": [],
   "source": [
    "# Criando o modelo\n",
    "modelo = CatBoostClassifier(task_type='CPU', iterations=100, learning_rate=0.1, depth = 8, random_state = 5,\n",
    "                              eval_metric=\"Accuracy\")\n",
    "resultado = cross_val_score(modelo, previsores, alvo, cv = kfold)\n",
    "\n",
    "# Usamos a média e o desvio padrão\n",
    "print(\"Acurácia Média: %.2f%%\" % (resultado.mean() * 100.0))"
   ]
  },
  {
   "cell_type": "markdown",
   "metadata": {
    "id": "gco4qH1qUChe"
   },
   "source": [
    "Naive Bayes = 84,78% (treino e teste) - 234 acertos e 85,17% (validação cruzada) : previsores3_esc\n",
    "\n",
    "SVM = 86,23% - 238 acertos e 85,72% (validação cruzada) : previsores3-esc - SVC(kernel='rbf', random_state=1, C = 2)\n",
    "\n",
    "Regressão logística = 86,23% - 238 acertos e 85,83% (validação cruzada) : previsores3_esc - LogisticRegression(random_state=1, max_iter=600, penalty=\"l2\", tol=0.0001, C=1,solver=\"lbfgs\")\n",
    "\n",
    "KNN = 84,06% - 232 acertos e 85,84% (validação cruzada) : previsores3_esc ou previsores_esc - KNeighborsClassifier(n_neighbors=7, metric='minkowski', p = 1)\n",
    "\n",
    "Árvore de decisão = 83,7% (treino e teste) - 231 acertos e 83,32% (validação cruzada): previsores3_esc - DecisionTreeClassifier(criterion='entropy', random_state = 0, max_depth=3)\n",
    "\n",
    "Random Forest = 86,59% - 239 acertos e 85,92% (validação cruzada) : previsores - RandomForestClassifier(n_estimators=150, criterion='entropy', random_state = 0, max_depth=4)\n",
    "\n",
    "**XGboost = 87,68% - 242 acertos e 87,13% (validação cruzada) : previsores - XGBClassifier(max_depth=2, learning_rate=0.05, n_estimators=250, objective='binary:logistic', random_state=3)**\n",
    "\n",
    "LightGBM = 86,23% (treino e teste)- 238 acertos e 85,93% (validação cruzada) : previsores - lgb.LGBMClassifier(num_leaves = 250, objective = 'binary',  max_depth = 2, learning_rate = .05, max_bin =100)\n",
    "\n",
    "CatBoost = 86,96% (treino e teste) previsores4 - 240 acertos e 88% (validação cruzada com previsores) - CatBoostClassifier(task_type='CPU', iterations=100, learning_rate=0.1, depth = 8, random_state = 5, eval_metric=\"Accuracy\")"
   ]
  },
  {
   "cell_type": "markdown",
   "metadata": {
    "id": "-SI78UagmLD7"
   },
   "source": [
    "# **Salvando dados para Deploy**"
   ]
  },
  {
   "cell_type": "code",
   "execution_count": null,
   "metadata": {
    "colab": {
     "base_uri": "https://localhost:8080/"
    },
    "executionInfo": {
     "elapsed": 216,
     "status": "ok",
     "timestamp": 1665100404870,
     "user": {
      "displayName": "Luciano Galdino",
      "userId": "10237697037323960148"
     },
     "user_tz": 180
    },
    "id": "LNMNKr4TmLD8",
    "outputId": "368c8f12-37c6-4ba4-e997-b3a82799470d"
   },
   "outputs": [],
   "source": [
    "previsores"
   ]
  },
  {
   "cell_type": "code",
   "execution_count": null,
   "metadata": {
    "colab": {
     "base_uri": "https://localhost:8080/"
    },
    "executionInfo": {
     "elapsed": 223,
     "status": "ok",
     "timestamp": 1665100406554,
     "user": {
      "displayName": "Luciano Galdino",
      "userId": "10237697037323960148"
     },
     "user_tz": 180
    },
    "id": "isSCWsMPDdw6",
    "outputId": "b9ac256b-4261-44f0-f745-c1639629c375"
   },
   "outputs": [],
   "source": [
    "alvo"
   ]
  },
  {
   "cell_type": "code",
   "execution_count": null,
   "metadata": {
    "id": "XUYRtI5VDBXF"
   },
   "outputs": [],
   "source": [
    "np.savetxt('previsores.csv', previsores, delimiter=',')"
   ]
  },
  {
   "cell_type": "code",
   "execution_count": null,
   "metadata": {
    "id": "dd7lbPU3DQFO"
   },
   "outputs": [],
   "source": [
    "np.savetxt('alvo.csv', alvo, delimiter=',')"
   ]
  },
  {
   "cell_type": "markdown",
   "metadata": {
    "id": "gX89_HefchXj"
   },
   "source": [
    "# **NOÇÕES DE OTIMIZAÇÃO DE HIPERPARÂMETROS**"
   ]
  },
  {
   "cell_type": "markdown",
   "metadata": {
    "id": "omABK560CVdx"
   },
   "source": [
    "## **Grid Search (classificador Gradient Boosting)**"
   ]
  },
  {
   "cell_type": "code",
   "execution_count": null,
   "metadata": {
    "executionInfo": {
     "elapsed": 427,
     "status": "ok",
     "timestamp": 1689263870988,
     "user": {
      "displayName": "Luciano Galdino",
      "userId": "10237697037323960148"
     },
     "user_tz": 180
    },
    "id": "v5D6FyycAJf6"
   },
   "outputs": [],
   "source": [
    "from sklearn.metrics import roc_auc_score\n",
    "from sklearn.model_selection import GridSearchCV\n",
    "from sklearn.ensemble import GradientBoostingClassifier"
   ]
  },
  {
   "cell_type": "code",
   "execution_count": null,
   "metadata": {
    "executionInfo": {
     "elapsed": 389,
     "status": "ok",
     "timestamp": 1689263891906,
     "user": {
      "displayName": "Luciano Galdino",
      "userId": "10237697037323960148"
     },
     "user_tz": 180
    },
    "id": "_W-Qrc5AmXUD"
   },
   "outputs": [],
   "source": [
    "# Criando o algoritmo\n",
    "gbm = GradientBoostingClassifier(random_state=0)"
   ]
  },
  {
   "cell_type": "code",
   "execution_count": null,
   "metadata": {
    "executionInfo": {
     "elapsed": 396,
     "status": "ok",
     "timestamp": 1689264041666,
     "user": {
      "displayName": "Luciano Galdino",
      "userId": "10237697037323960148"
     },
     "user_tz": 180
    },
    "id": "ZLXrw1MlCVdy"
   },
   "outputs": [],
   "source": [
    "# Determinando o espaço do hiperparâmetro\n",
    "param_grid = dict(\n",
    "    n_estimators=[20, 50, 100, 250],\n",
    "    learning_rate=[0.05, 0.1, 0.5],\n",
    "    max_depth=[1,2,3,4,5],\n",
    "    )"
   ]
  },
  {
   "cell_type": "code",
   "execution_count": null,
   "metadata": {
    "colab": {
     "base_uri": "https://localhost:8080/"
    },
    "executionInfo": {
     "elapsed": 383,
     "status": "ok",
     "timestamp": 1689264082406,
     "user": {
      "displayName": "Luciano Galdino",
      "userId": "10237697037323960148"
     },
     "user_tz": 180
    },
    "id": "n180TbSi637w",
    "outputId": "7705a697-f560-4d4e-8c85-03b224460518"
   },
   "outputs": [],
   "source": [
    "print('Número de combinações de Hiperparâmetros: ',\n",
    "      len(param_grid['n_estimators']) * len(param_grid['learning_rate']) * len(param_grid['max_depth']))"
   ]
  },
  {
   "cell_type": "code",
   "execution_count": null,
   "metadata": {
    "executionInfo": {
     "elapsed": 406,
     "status": "ok",
     "timestamp": 1689264298495,
     "user": {
      "displayName": "Luciano Galdino",
      "userId": "10237697037323960148"
     },
     "user_tz": 180
    },
    "id": "RzWsjsfuCVdz"
   },
   "outputs": [],
   "source": [
    "# Configurando a procura com o Grid search\n",
    "grid_search = GridSearchCV(gbm, param_grid, scoring='roc_auc', cv=4)"
   ]
  },
  {
   "cell_type": "code",
   "execution_count": null,
   "metadata": {
    "colab": {
     "base_uri": "https://localhost:8080/",
     "height": 117
    },
    "executionInfo": {
     "elapsed": 41267,
     "status": "ok",
     "timestamp": 1689264361379,
     "user": {
      "displayName": "Luciano Galdino",
      "userId": "10237697037323960148"
     },
     "user_tz": 180
    },
    "id": "uws9ORGbm5T4",
    "outputId": "3c55b686-d4db-4215-f295-910dd05c5b5c"
   },
   "outputs": [],
   "source": [
    "# Configurando os melhores hiperparâmetros\n",
    "grid_search.fit(x_treino, y_treino)"
   ]
  },
  {
   "cell_type": "code",
   "execution_count": null,
   "metadata": {
    "colab": {
     "base_uri": "https://localhost:8080/"
    },
    "executionInfo": {
     "elapsed": 380,
     "status": "ok",
     "timestamp": 1689264397879,
     "user": {
      "displayName": "Luciano Galdino",
      "userId": "10237697037323960148"
     },
     "user_tz": 180
    },
    "id": "hHTFIt2ZCVd0",
    "outputId": "b6e7106a-13b0-47c9-838d-cd4f70178153"
   },
   "outputs": [],
   "source": [
    "# Melhores Hiperparâmetros\n",
    "grid_search.best_params_"
   ]
  },
  {
   "cell_type": "code",
   "execution_count": null,
   "metadata": {
    "colab": {
     "base_uri": "https://localhost:8080/",
     "height": 381
    },
    "executionInfo": {
     "elapsed": 639,
     "status": "ok",
     "timestamp": 1689264496466,
     "user": {
      "displayName": "Luciano Galdino",
      "userId": "10237697037323960148"
     },
     "user_tz": 180
    },
    "id": "jVVWHEkYCVd1",
    "outputId": "101fb4a4-ae8d-4fce-efb0-e7a4d66d1208"
   },
   "outputs": [],
   "source": [
    "# Relação dos dados para todos os modelos\n",
    "\n",
    "resultado = pd.DataFrame(grid_search.cv_results_)\n",
    "print(resultado.shape)\n",
    "resultado.head(3)"
   ]
  },
  {
   "cell_type": "code",
   "execution_count": null,
   "metadata": {
    "colab": {
     "base_uri": "https://localhost:8080/",
     "height": 206
    },
    "executionInfo": {
     "elapsed": 399,
     "status": "ok",
     "timestamp": 1689264800823,
     "user": {
      "displayName": "Luciano Galdino",
      "userId": "10237697037323960148"
     },
     "user_tz": 180
    },
    "id": "KM2wq4wOCVd2",
    "outputId": "eb3f014d-2eaa-4854-bb93-a94fff578692"
   },
   "outputs": [],
   "source": [
    "# Ordenando os melhores resultados\n",
    "resultado.sort_values(by='mean_test_score', ascending=False, inplace=True)\n",
    "\n",
    "resultado.reset_index(drop=True, inplace=True)\n",
    "\n",
    "resultado[['param_max_depth', 'param_learning_rate', 'param_n_estimators',\n",
    "    'mean_test_score', 'std_test_score']].head()"
   ]
  },
  {
   "cell_type": "markdown",
   "metadata": {
    "id": "Q6LoOxMow4Ci"
   },
   "source": [
    "# **DESAFIO 1**"
   ]
  },
  {
   "cell_type": "markdown",
   "metadata": {
    "id": "bjLFumRQxayX"
   },
   "source": [
    "DESENVOLVER E SELECIONAR O MELHOR ALGORITMO DE MACHINE LEARNING DE CLASSIFICAÇÃO PARA O DATASET DO LINK A SEGUIR:"
   ]
  },
  {
   "cell_type": "markdown",
   "metadata": {
    "id": "VG8xV9wYxKk2"
   },
   "source": [
    "https://www.kaggle.com/uciml/breast-cancer-wisconsin-data"
   ]
  }
 ],
 "metadata": {
  "colab": {
   "authorship_tag": "ABX9TyMe0YJwv9m9c/gj/ziSMDB1",
   "mount_file_id": "1r7SQZXDD61Fh4sxth3Z6C6Ny3LgNte-i",
   "provenance": []
  },
  "kernelspec": {
   "display_name": "Python 3",
   "name": "python3"
  },
  "language_info": {
   "name": "python"
  }
 },
 "nbformat": 4,
 "nbformat_minor": 0
}
